{
 "cells": [
  {
   "cell_type": "markdown",
   "metadata": {},
   "source": [
    "# Overestimation of Effect Size in Low Powered Test\n",
    "\n",
    "\n",
    "Low powered studies lead to overestimation of effect size. Gelman refers to this as the “winner’s curse”. Consider a low powered study with low signal and high variance. This study will on average produce statistically significant results that overestimate the true effects. \n",
    "\n",
    "This scenario is common when performing multiple comparison’s adjustments to p-values. The widened significance threshold requires that only results with large effect sizes are accepted. A naive perspective is to assume that because H0 is probably not true true you must accept the HA.  [refer to the study above]\n",
    "\n",
    "Gelman’s coined the term type M error to refer to errors estimating the magnitude of effects. The risk of a low power study is then less about your success in reading a statistically significant effect but rather your probability of reading an exaggerated effect. A risk that’s arguably as detrimental as Type I or II errors. \n",
    "\n",
    "## Motivating Example: Credit Test\n",
    "\n",
    "You're considering a promotion where customer's get $500 for spending $3,000 in the first 3 months of opening a credit card. The test is potentially expensive so you want to run a small test. You want to see how this promotion affects customer engagement as measured by utilization of their credit line (i.e. $ on statement / credit line).\n",
    "\n",
    "$$\n",
    "H_{0}: \\mu_{a} = \\mu_{b}\\\\\n",
    "H_{a}: \\mu_{a} < \\mu_{b}\n",
    "$$\n",
    "\n",
    "\n",
    "### Calculating Sample Size\n",
    "\n",
    "Given effect size, power, significance level (alpha)\n",
    "\n",
    "$$\n",
    "n = \\left(\\frac{\\sigma_{p}(z_{\\beta} + z_{\\alpha})}{H_{s}}\\right)^2\n",
    "$$\n",
    "\n",
    "If we assume equal variance and a ratio of 1:1 the pooled standard deviation equals:\n",
    "\n",
    "$$\n",
    "\\sigma_{p} = 2\\times\\sigma\n",
    "$$\n"
   ]
  },
  {
   "cell_type": "code",
   "execution_count": 1,
   "metadata": {
    "collapsed": true
   },
   "outputs": [],
   "source": [
    "from scipy import stats\n",
    "import numpy as np\n",
    "import matplotlib.pyplot as plt\n",
    "import seaborn as sns\n",
    "\n",
    "from statsmodels.stats.weightstats import ztest"
   ]
  },
  {
   "cell_type": "code",
   "execution_count": 2,
   "metadata": {
    "collapsed": true
   },
   "outputs": [],
   "source": [
    "def plot_test_design(H_0, H_s, stderr, alpha):\n",
    "    plt.figure(figsize=(8,5))\n",
    "    zscore_alpha = stats.norm(0, 1).ppf(1-alpha)\n",
    "\n",
    "    # plotting function\n",
    "    As = stats.norm(H_0, stderr).rvs(10000)\n",
    "    Bs = stats.norm(effect, stderr).rvs(10000)\n",
    "\n",
    "    # Shading of Type I error (alpha)\n",
    "    alpha_xs = np.linspace(H_0 + stderr*zscore_alpha, np.max(As), 100)\n",
    "    alpha_ymax = stats.norm(H_0, stderr).pdf(alpha_xs)\n",
    "    alpha_ymin = np.zeros(alpha_xs.shape[0])\n",
    "\n",
    "    # Shading of Type II error (1 - Beta)\n",
    "    Beta_xs = np.linspace(H_0 + stderr*zscore_alpha, np.min(Bs), 100)\n",
    "    Beta_ymax = stats.norm(effect, stderr).pdf(Beta_xs)\n",
    "    Beta_ymin = np.zeros(Beta_xs.shape[0])\n",
    "\n",
    "    sns.kdeplot(As, color=\"red\", shade=False, label='Data Collected if \\n HO True')\n",
    "    plt.fill_between(alpha_xs, alpha_ymin, alpha_ymax, alpha=.3, color='red', label='Type I Error')\n",
    "    sns.kdeplot(Bs, color=\"blue\", shade=False, label='Data Collected if \\n HS True')\n",
    "    plt.fill_between(Beta_xs, Beta_ymin, Beta_ymax, alpha=.3, color='blue', label='Type II Error')\n",
    "\n",
    "    plt.axvline(H_0 + zscore_alpha*stderr,  color='black', linestyle='--', label='Signficance Level')\n",
    "    plt.legend()"
   ]
  },
  {
   "cell_type": "markdown",
   "metadata": {},
   "source": [
    "### Test Inputs\n",
    "\n",
    "**Effect Size (Substantive Hypothesis):** You would only decide to launch this promotion to the broader population if the test shows a **10% increase** in utilization\n",
    "\n",
    "**Population Standard Deviation:** Based on prior promotions you expect the standard deviation to be **20%**"
   ]
  },
  {
   "cell_type": "code",
   "execution_count": 3,
   "metadata": {
    "collapsed": false
   },
   "outputs": [],
   "source": [
    "# Population characteristics\n",
    "pop_std = 2\n",
    "pooled_std = 2*pop_std\n",
    "H_0 = 0\n",
    "\n",
    "# Test Inputs\n",
    "effect = .1 # minimum difference we want to be able to read\n",
    "alpha = .05 # significance level (Type I Error Rate)\n",
    "power = .90\n",
    "\n",
    "zscore_alpha = stats.norm(0, 1).ppf(1-alpha)"
   ]
  },
  {
   "cell_type": "markdown",
   "metadata": {},
   "source": [
    "### Test Design for Power = 90%"
   ]
  },
  {
   "cell_type": "code",
   "execution_count": 4,
   "metadata": {
    "collapsed": false
   },
   "outputs": [
    {
     "name": "stdout",
     "output_type": "stream",
     "text": [
      "Standard Error: 3.4%\n",
      "Total Sample Size: 13702\n"
     ]
    }
   ],
   "source": [
    "zscore_power = stats.norm(0, 1).ppf(power)\n",
    "n_total_90 = ((pooled_std*(zscore_alpha + zscore_power))/effect)**2\n",
    "stderr_90 = pooled_std/np.sqrt(n_total_90)\n",
    "print('Standard Error: {:.1%}'.format(stderr_90))\n",
    "print('Total Sample Size: {:.0f}'.format(n_total_90))"
   ]
  },
  {
   "cell_type": "code",
   "execution_count": 6,
   "metadata": {
    "collapsed": false
   },
   "outputs": [
    {
     "name": "stderr",
     "output_type": "stream",
     "text": [
      "/Users/mpb798/anaconda/lib/python3.5/site-packages/scipy/stats/stats.py:1713: FutureWarning: Using a non-tuple sequence for multidimensional indexing is deprecated; use `arr[tuple(seq)]` instead of `arr[seq]`. In the future this will be interpreted as an array index, `arr[np.array(seq)]`, which will result either in an error or a different result.\n",
      "  return np.add.reduce(sorted[indexer] * weights, axis=axis) / sumval\n"
     ]
    },
    {
     "data": {
      "text/plain": [
       "(-0.3, 0.4)"
      ]
     },
     "execution_count": 6,
     "metadata": {},
     "output_type": "execute_result"
    },
    {
     "data": {
      "image/png": "[encoded data removed]",
      "text/plain": [
       "<Figure size 576x360 with 1 Axes>"
      ]
     },
     "metadata": {
      "needs_background": "light"
     },
     "output_type": "display_data"
    }
   ],
   "source": [
    "plot_test_design(H_0, effect, stderr_90, alpha)\n",
    "plt.title('Power = 80%')\n",
    "plt.xlim(-.3, .4)"
   ]
  },
  {
   "cell_type": "code",
   "execution_count": 7,
   "metadata": {
    "collapsed": false
   },
   "outputs": [
    {
     "data": {
      "text/plain": [
       "13703.508982308455"
      ]
     },
     "execution_count": 7,
     "metadata": {},
     "output_type": "execute_result"
    }
   ],
   "source": [
    "import statsmodels.stats.power as smp\n",
    "smp.tt_ind_solve_power(.1/2, alpha=.05, power=power, ratio=1.0, alternative='larger')*2"
   ]
  },
  {
   "cell_type": "markdown",
   "metadata": {},
   "source": [
    "### Test Design for Power = 50%\n",
    "\n",
    "You believe the sample size required for a power of 80% is too expensive so you consider a lower powered test"
   ]
  },
  {
   "cell_type": "code",
   "execution_count": 8,
   "metadata": {
    "collapsed": false
   },
   "outputs": [
    {
     "name": "stdout",
     "output_type": "stream",
     "text": [
      "Standard Error: 6.1%\n",
      "Total Sample Size: 4329\n"
     ]
    }
   ],
   "source": [
    "zscore_power = stats.norm(0, 1).ppf(.5)\n",
    "n_total_50 = (pooled_std*(zscore_alpha + zscore_power)/effect)**2\n",
    "stderr_50 = pooled_std/np.sqrt(n_total_50)\n",
    "print('Standard Error: {:.1%}'.format(stderr_50))\n",
    "print('Total Sample Size: {:.0f}'.format(n_total_50))"
   ]
  },
  {
   "cell_type": "code",
   "execution_count": 9,
   "metadata": {
    "collapsed": false
   },
   "outputs": [
    {
     "data": {
      "text/plain": [
       "(-0.3, 0.4)"
      ]
     },
     "execution_count": 9,
     "metadata": {},
     "output_type": "execute_result"
    },
    {
     "data": {
      "image/png": "[encoded data removed]",
      "text/plain": [
       "<Figure size 576x360 with 1 Axes>"
      ]
     },
     "metadata": {
      "needs_background": "light"
     },
     "output_type": "display_data"
    }
   ],
   "source": [
    "plot_test_design(H_0, effect, stderr_50, alpha)\n",
    "plt.title('Power = 60%')\n",
    "plt.xlim(-.3, .4)"
   ]
  },
  {
   "cell_type": "markdown",
   "metadata": {},
   "source": [
    "## Test Power influences the observed effect size"
   ]
  },
  {
   "cell_type": "code",
   "execution_count": 10,
   "metadata": {
    "collapsed": false
   },
   "outputs": [],
   "source": [
    "iters = 1000\n",
    "\n",
    "pvalues_50 = np.zeros(iters)\n",
    "effect_size_50 = np.zeros(iters)\n",
    "\n",
    "pvalues_90 = np.zeros(iters)\n",
    "effect_size_90 = np.zeros(iters)\n",
    "\n",
    "ses = []\n",
    "for i in range(iters):\n",
    "    # sample data from each test\n",
    "    A_90 = stats.norm(0, pop_std).rvs(int(n_total_90/2))\n",
    "    B_90 = stats.norm(effect, pop_std).rvs(int(n_total_90/2))\n",
    "    \n",
    "    # sample data from each test\n",
    "    A_50 = stats.norm(0, pop_std).rvs(int(n_total_50/2))\n",
    "    B_50 = stats.norm(effect, pop_std).rvs(int(n_total_50/2))\n",
    "    \n",
    "    # test\n",
    "    res_50 = ztest(B_50, A_50, alternative='larger')\n",
    "    res_90 = ztest(B_90, A_90, alternative='larger')\n",
    "    \n",
    "    se = np.sqrt((np.std(A_90)/np.sqrt(len(A_90)))**2 + (np.std(B_90)/np.sqrt(len(B_90)))**2)\n",
    "    mu_diff = np.mean(B_90) - np.mean(A_90) \n",
    "    ses.append(se)\n",
    "    # decision\n",
    "    pvalues_90[i] = stats.norm(0,1).pdf(mu_diff/se) #res_80[1]\n",
    "    effect_size_90[i] = np.mean(B_90) - np.mean(A_90)\n",
    "    \n",
    "    pvalues_50[i] = res_50[1]\n",
    "    effect_size_50[i] = np.mean(B_50) - np.mean(A_50)"
   ]
  },
  {
   "cell_type": "markdown",
   "metadata": {},
   "source": [
    "### Results for 90% Power Test"
   ]
  },
  {
   "cell_type": "code",
   "execution_count": 11,
   "metadata": {
    "collapsed": false
   },
   "outputs": [
    {
     "name": "stdout",
     "output_type": "stream",
     "text": [
      "Test Power: 0.83\n",
      "Type II Error: 0.17\n",
      "Average Significant Effect Size: 0.111\n"
     ]
    }
   ],
   "source": [
    "print('Test Power: {:.2f}'.format(np.mean(pvalues_90<=alpha)))\n",
    "print('Type II Error: {:.2f}'.format(np.mean(pvalues_90>alpha)))\n",
    "print('Average Significant Effect Size: {:.3f}'.format(np.mean(effect_size_90[pvalues_90<alpha])))"
   ]
  },
  {
   "cell_type": "markdown",
   "metadata": {},
   "source": [
    "### Results for 50% Power Test"
   ]
  },
  {
   "cell_type": "code",
   "execution_count": 12,
   "metadata": {
    "collapsed": false
   },
   "outputs": [
    {
     "name": "stdout",
     "output_type": "stream",
     "text": [
      "Test Power: 0.49\n",
      "Type II Error: 0.49\n",
      "Average Significant Effect Size: 0.151\n"
     ]
    }
   ],
   "source": [
    "print('Test Power: {:.2f}'.format(np.mean(pvalues_50<alpha)))\n",
    "print('Type II Error: {:.2f}'.format(1 - np.mean(pvalues_50>alpha)))\n",
    "print('Average Significant Effect Size: {:.3f}'.format(np.mean(effect_size_50[pvalues_50<alpha])))"
   ]
  },
  {
   "cell_type": "markdown",
   "metadata": {},
   "source": [
    "# Results\n",
    "\n",
    "As you can see above the average efect size that we find signficant under a 90% Power test is 11.1% and 15% under a 50% test. Under the lower powered test you are far more likely to overstate the effect of your treatment!"
   ]
  },
  {
   "cell_type": "code",
   "execution_count": null,
   "metadata": {
    "collapsed": true
   },
   "outputs": [],
   "source": []
  }
 ],
 "metadata": {
  "kernelspec": {
   "display_name": "Python 3",
   "language": "python",
   "name": "python3"
  },
  "language_info": {
   "codemirror_mode": {
    "name": "ipython",
    "version": 3
   },
   "file_extension": ".py",
   "mimetype": "text/x-python",
   "name": "python",
   "nbconvert_exporter": "python",
   "pygments_lexer": "ipython3",
   "version": "3.5.4"
  },
  "toc": {
   "base_numbering": 1,
   "nav_menu": {
    "height": "395px",
    "width": "363px"
   },
   "number_sections": false,
   "sideBar": true,
   "skip_h1_title": false,
   "title_cell": "Table of Contents",
   "title_sidebar": "Contents",
   "toc_cell": false,
   "toc_position": {},
   "toc_section_display": true,
   "toc_window_display": true
  }
 },
 "nbformat": 4,
 "nbformat_minor": 0
}

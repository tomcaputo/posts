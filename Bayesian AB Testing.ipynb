{
 "cells": [
  {
   "cell_type": "markdown",
   "metadata": {},
   "source": [
    "# Bayesian A/B Testing\n",
    "\n",
    "I see the choice in Bayesian vs Frequentist approaches as a matter of regularization. Though there is regularization in frequentist methods it's not used in Hypothesis testing because it biases your estimates. A Bayesian is more accepting of bias as long as it biases the estimates towards a more reasonable answer.\n",
    "\n",
    "In this example I\"ll show how outcomes of a hypothesis test changes when using a Bayesian approach vs Frequentist approach. \n",
    "\n",
    "Consider an A/B test where we compare clickthrough rates (“out of X impressions, there have been Y clicks”) of different web pages. There's a BAU method as a control vs multiple alternative designs. We want to discover if any design produces signficant lift"
   ]
  },
  {
   "cell_type": "code",
   "execution_count": 118,
   "metadata": {
    "collapsed": false
   },
   "outputs": [],
   "source": [
    "import pandas as pd\n",
    "import numpy as np\n",
    "from scipy import stats, special\n",
    "from matplotlib.transforms import Affine2D\n",
    "import matplotlib.pyplot as plt\n",
    "%matplotlib inline"
   ]
  },
  {
   "cell_type": "markdown",
   "metadata": {},
   "source": [
    "# Generate Data"
   ]
  },
  {
   "cell_type": "code",
   "execution_count": 166,
   "metadata": {
    "collapsed": false
   },
   "outputs": [],
   "source": [
    "np.random.seed(301)\n",
    "num_trts = 6\n",
    "effects = np.random.normal(.1, .01, num_trts)\n",
    "samples = [2000, 100, 200, 280, 300, 50]\n",
    "trt_name = ['_BAU', 'A', 'B', 'C', 'D', 'E']\n",
    "\n",
    "results = {}\n",
    "for i, trt in enumerate(trt_name):\n",
    "    results[trt]=stats.bernoulli.rvs(effects[i], size=samples[i])\n",
    "    "
   ]
  },
  {
   "cell_type": "code",
   "execution_count": 167,
   "metadata": {
    "collapsed": true
   },
   "outputs": [],
   "source": [
    "def calc_conf_int(res):\n",
    "\n",
    "    results = pd.DataFrame()\n",
    "    for key, val in res.items():\n",
    "        _results = pd.DataFrame({'odds':\"{} / {}\".format(sum(val==1),len(val)),\n",
    "                                 'mean': np.mean(val), \n",
    "                                 'y': np.sum(val), \n",
    "                                 'n': len(val), \n",
    "                                 'se':np.std(val)/np.sqrt(len(val))}, \n",
    "                                index=[key])\n",
    "        results = pd.concat((_results, results))\n",
    "    results = results.sort_index()\n",
    "    results['conf_lb'] = results['mean'] - results['se']*1.96\n",
    "    results['conf_ub'] = results['mean'] + results['se']*1.96\n",
    "    results.index = results.index + \": \" + results.odds\n",
    "    return results\n",
    "        "
   ]
  },
  {
   "cell_type": "code",
   "execution_count": 168,
   "metadata": {
    "collapsed": false
   },
   "outputs": [
    {
     "data": {
      "text/html": [
       "<div>\n",
       "<style scoped>\n",
       "    .dataframe tbody tr th:only-of-type {\n",
       "        vertical-align: middle;\n",
       "    }\n",
       "\n",
       "    .dataframe tbody tr th {\n",
       "        vertical-align: top;\n",
       "    }\n",
       "\n",
       "    .dataframe thead th {\n",
       "        text-align: right;\n",
       "    }\n",
       "</style>\n",
       "<table border=\"1\" class=\"dataframe\">\n",
       "  <thead>\n",
       "    <tr style=\"text-align: right;\">\n",
       "      <th></th>\n",
       "      <th>mean</th>\n",
       "      <th>n</th>\n",
       "      <th>odds</th>\n",
       "      <th>se</th>\n",
       "      <th>y</th>\n",
       "      <th>conf_lb</th>\n",
       "      <th>conf_ub</th>\n",
       "    </tr>\n",
       "  </thead>\n",
       "  <tbody>\n",
       "    <tr>\n",
       "      <th>A: 10 / 100</th>\n",
       "      <td>0.100000</td>\n",
       "      <td>100</td>\n",
       "      <td>10 / 100</td>\n",
       "      <td>0.030000</td>\n",
       "      <td>10</td>\n",
       "      <td>0.041200</td>\n",
       "      <td>0.158800</td>\n",
       "    </tr>\n",
       "    <tr>\n",
       "      <th>B: 32 / 200</th>\n",
       "      <td>0.160000</td>\n",
       "      <td>200</td>\n",
       "      <td>32 / 200</td>\n",
       "      <td>0.025923</td>\n",
       "      <td>32</td>\n",
       "      <td>0.109191</td>\n",
       "      <td>0.210809</td>\n",
       "    </tr>\n",
       "    <tr>\n",
       "      <th>C: 34 / 280</th>\n",
       "      <td>0.121429</td>\n",
       "      <td>280</td>\n",
       "      <td>34 / 280</td>\n",
       "      <td>0.019520</td>\n",
       "      <td>34</td>\n",
       "      <td>0.083170</td>\n",
       "      <td>0.159687</td>\n",
       "    </tr>\n",
       "    <tr>\n",
       "      <th>D: 27 / 300</th>\n",
       "      <td>0.090000</td>\n",
       "      <td>300</td>\n",
       "      <td>27 / 300</td>\n",
       "      <td>0.016523</td>\n",
       "      <td>27</td>\n",
       "      <td>0.057615</td>\n",
       "      <td>0.122385</td>\n",
       "    </tr>\n",
       "    <tr>\n",
       "      <th>E: 9 / 50</th>\n",
       "      <td>0.180000</td>\n",
       "      <td>50</td>\n",
       "      <td>9 / 50</td>\n",
       "      <td>0.054332</td>\n",
       "      <td>9</td>\n",
       "      <td>0.073509</td>\n",
       "      <td>0.286491</td>\n",
       "    </tr>\n",
       "    <tr>\n",
       "      <th>_BAU: 210 / 2000</th>\n",
       "      <td>0.105000</td>\n",
       "      <td>2000</td>\n",
       "      <td>210 / 2000</td>\n",
       "      <td>0.006855</td>\n",
       "      <td>210</td>\n",
       "      <td>0.091565</td>\n",
       "      <td>0.118435</td>\n",
       "    </tr>\n",
       "  </tbody>\n",
       "</table>\n",
       "</div>"
      ],
      "text/plain": [
       "                      mean     n        odds        se    y   conf_lb  \\\n",
       "A: 10 / 100       0.100000   100    10 / 100  0.030000   10  0.041200   \n",
       "B: 32 / 200       0.160000   200    32 / 200  0.025923   32  0.109191   \n",
       "C: 34 / 280       0.121429   280    34 / 280  0.019520   34  0.083170   \n",
       "D: 27 / 300       0.090000   300    27 / 300  0.016523   27  0.057615   \n",
       "E: 9 / 50         0.180000    50      9 / 50  0.054332    9  0.073509   \n",
       "_BAU: 210 / 2000  0.105000  2000  210 / 2000  0.006855  210  0.091565   \n",
       "\n",
       "                   conf_ub  \n",
       "A: 10 / 100       0.158800  \n",
       "B: 32 / 200       0.210809  \n",
       "C: 34 / 280       0.159687  \n",
       "D: 27 / 300       0.122385  \n",
       "E: 9 / 50         0.286491  \n",
       "_BAU: 210 / 2000  0.118435  "
      ]
     },
     "execution_count": 168,
     "metadata": {},
     "output_type": "execute_result"
    }
   ],
   "source": [
    "ss = calc_conf_int(results) # summary stats\n",
    "ss"
   ]
  },
  {
   "cell_type": "code",
   "execution_count": 169,
   "metadata": {
    "collapsed": false
   },
   "outputs": [
    {
     "data": {
      "text/plain": [
       "(0, 0.3)"
      ]
     },
     "execution_count": 169,
     "metadata": {},
     "output_type": "execute_result"
    },
    {
     "data": {
      "image/png": "[encoded data removed]",
      "text/plain": [
       "<Figure size 288x216 with 1 Axes>"
      ]
     },
     "metadata": {
      "needs_background": "light"
     },
     "output_type": "display_data"
    }
   ],
   "source": [
    "plt.figure(figsize=(4,3))\n",
    "plt.errorbar(x=ss['mean'], y=ss.index, xerr=ss['se'], fmt='o')\n",
    "plt.xlim(0, .30)"
   ]
  },
  {
   "cell_type": "markdown",
   "metadata": {},
   "source": [
    "# Reading Lift\n",
    "\n",
    "We will take two approaches to reading lift. First the frequentist approach which uses only the data from test/control when determining statistical signficance. Next we explore the Bayesian approach, which incorporates our prior knowledge through the prior\n",
    "\n",
    "For the Frequestist approach we use a two proportions test:\n",
    "https://www.socscistatistics.com/tests/ztest/\n",
    "\n",
    "The Bayesian model will be Beta-Binomial\n",
    "https://en.wikipedia.org/wiki/Beta-binomial_distribution"
   ]
  },
  {
   "cell_type": "markdown",
   "metadata": {},
   "source": [
    "## Frequentist Approach"
   ]
  },
  {
   "cell_type": "code",
   "execution_count": 189,
   "metadata": {
    "collapsed": false
   },
   "outputs": [],
   "source": [
    "lift = ss.copy()\n",
    "ctrl_idx = lift.index=='_BAU: 210 / 2000'\n",
    "\n",
    "# Calculate Mean difference and Pooled Standard Error\n",
    "lift['var'] = lift['mean']*(1-lift['mean'])\n",
    "lift['pooled_stderr'] = np.sqrt(lift['var']/lift['n'] + lift[ctrl_idx]['var'].values/lift[ctrl_idx]['n'].values)\n",
    "lift['mean'] = lift['mean'] - lift[ctrl_idx]['mean'].values\n",
    "\n",
    "#lift = lift[~ctrl_idx]"
   ]
  },
  {
   "cell_type": "code",
   "execution_count": 190,
   "metadata": {
    "collapsed": false
   },
   "outputs": [
    {
     "data": {
      "text/plain": [
       "<matplotlib.lines.Line2D at 0x7fcea2c8f208>"
      ]
     },
     "execution_count": 190,
     "metadata": {},
     "output_type": "execute_result"
    },
    {
     "data": {
      "image/png": "[encoded data removed]",
      "text/plain": [
       "<Figure size 288x216 with 1 Axes>"
      ]
     },
     "metadata": {
      "needs_background": "light"
     },
     "output_type": "display_data"
    }
   ],
   "source": [
    "plt.figure(figsize=(4,3))\n",
    "plt.errorbar(x=lift['mean'], y=lift.index, xerr=lift['pooled_stderr'], fmt='o')\n",
    "plt.axvline(x=0, color='red', linestyle='--')"
   ]
  },
  {
   "cell_type": "markdown",
   "metadata": {},
   "source": [
    "### Results\n",
    "\n",
    "It looks like experience E and B have a significant effect at alpha=.05"
   ]
  },
  {
   "cell_type": "markdown",
   "metadata": {
    "collapsed": true
   },
   "source": [
    "## Bayesian Beta-Binomial approach\n",
    "\n",
    "\n",
    "There are multiple choice we can make for a prior. The choice the prior comes down to what prior beliefs we have, how strong those beliefs are, and the cost of making the wrong decision. \n",
    "\n",
    "For example we may have very little prior knowledge and decide to use an uninformative beta(1, 1) distribution. We make also want to be very conservative in our decision making and want to regularize towards the lowest risk option (e.g. BAU). The third I'll explore is regressing each treatment mean to a shared group mean.\n",
    "\n",
    "- For more information on priors see the [Stan Prior Choice Guide](https://github.com/stan-dev/stan/wiki/Prior-Choice-Recommendations) by the stan development team\n",
    "\n",
    "**Think of alpha = # successes, Beta = # failures**\n",
    "\n",
    "### Beta-Binomial Conjugacy\n",
    "\n",
    "The model we will be using is a binomial distribution with a beta prior. I will not go into details since it widely tutorialed on youtube. All you need to know is the posterior predictive distribution is:\n",
    "\n",
    "$$\n",
    "y \\sim Beta(\\alpha_{0} + y, \\beta_{0} + n - y)\\\\\n",
    "$$\n",
    "\n",
    "$n$ = trials\n",
    "\n",
    "$y$ = success\n",
    "\n",
    "$\\alpha_{0}$ = alpha parameter in prior\n",
    "\n",
    "$\\beta_{0}$ = Beta parameter in prior\n",
    "\n",
    "\n",
    "https://www.evanmiller.org/bayesian-ab-testing.html#binary_ab_derivation\n"
   ]
  },
  {
   "cell_type": "code",
   "execution_count": 191,
   "metadata": {
    "collapsed": false
   },
   "outputs": [],
   "source": [
    "def AB_diff(alpha_A, beta_A,\n",
    "            alpha_B, beta_B):\n",
    "    \n",
    "    \"\"\"\n",
    "    Use simulation to find difference between two independent beta distributions\n",
    "    \"\"\"\n",
    "    \n",
    "    A = np.random.beta(alpha_A, beta_A, 10000)\n",
    "    B = np.random.beta(alpha_B, beta_B, 10000)\n",
    "    diff = B-A\n",
    "    return diff\n",
    "    \n",
    "    "
   ]
  },
  {
   "cell_type": "markdown",
   "metadata": {},
   "source": [
    "### Uninformative Prior: Beta(1,1)\n",
    "\n",
    "This means we don't have enough intuition to introduce any bias into the model. The results will line up pretty closely with the Frequentist approach"
   ]
  },
  {
   "cell_type": "code",
   "execution_count": 192,
   "metadata": {
    "collapsed": false
   },
   "outputs": [],
   "source": [
    "alpha_prior = 1\n",
    "beta_prior = 1"
   ]
  },
  {
   "cell_type": "code",
   "execution_count": 193,
   "metadata": {
    "collapsed": true
   },
   "outputs": [],
   "source": [
    "# Calculate Mean difference and Pooled Standard Error\n",
    "lift['alpha_unf'] = alpha_prior + lift['y']\n",
    "lift['Beta_unf'] = beta_prior + lift['n'] - lift['y']\n",
    "\n",
    "# BAU values\n",
    "A_alpha_unf = lift.loc[ctrl_idx, 'alpha_unf'][0]\n",
    "A_Beta_unf = lift.loc[ctrl_idx, 'Beta_unf'][0]\n",
    "\n",
    "ctrl_idx = lift.index=='_BAU: 210 / 2000'"
   ]
  },
  {
   "cell_type": "code",
   "execution_count": 194,
   "metadata": {
    "collapsed": false,
    "scrolled": true
   },
   "outputs": [],
   "source": [
    "lift['bayes_unf_mean'] = lift.apply(lambda df : np.mean(\n",
    "                                                    AB_diff(A_alpha_unf, A_Beta_unf,\n",
    "                                                    df['alpha_unf'], df['Beta_unf'])\n",
    "                                                    ), axis=1)\n",
    "\n",
    "lift['bayes_unf_std'] = lift.apply(lambda df : np.std(\n",
    "                                                    AB_diff(A_alpha_unf, A_Beta_unf,\n",
    "                                                    df['alpha_unf'], df['Beta_unf'])\n",
    "                                                    ), axis=1)"
   ]
  },
  {
   "cell_type": "code",
   "execution_count": 195,
   "metadata": {
    "collapsed": false
   },
   "outputs": [
    {
     "data": {
      "text/plain": [
       "<matplotlib.lines.Line2D at 0x7fcea350f1d0>"
      ]
     },
     "execution_count": 195,
     "metadata": {},
     "output_type": "execute_result"
    },
    {
     "data": {
      "image/png": "[encoded data removed]",
      "text/plain": [
       "<Figure size 360x216 with 1 Axes>"
      ]
     },
     "metadata": {
      "needs_background": "light"
     },
     "output_type": "display_data"
    }
   ],
   "source": [
    "fig, ax = plt.subplots(figsize=(5,3))\n",
    "trans1 = Affine2D().translate(0.0, -0.2) + ax.transData\n",
    "trans2 = Affine2D().translate(0.0, +0.2) + ax.transData\n",
    "\n",
    "plt.errorbar(x=lift['mean'], y=lift.index, xerr=lift['pooled_stderr'], \n",
    "             fmt='o', label='Frequentist', transform=trans1)\n",
    "\n",
    "plt.errorbar(x=lift['bayes_unf_mean'], y=lift.index, xerr=lift['bayes_unf_std'], \n",
    "             fmt='o', label='Uninformed Bayes', transform=trans2)\n",
    "\n",
    "plt.legend()\n",
    "plt.axvline(x=0, color='red', linestyle='--')"
   ]
  },
  {
   "cell_type": "markdown",
   "metadata": {},
   "source": [
    "### Prior set to BAU experience (Highly Regularized): Beta(210, 1790))\n",
    "\n",
    "This prior will significantly bias our results to our BAU data. You might only set this prior if there is a high cost to being wrong about your test experience.\n",
    "\n",
    "In reality you'll want to find a weighted average between uninformative and highly informed to control/BAU."
   ]
  },
  {
   "cell_type": "code",
   "execution_count": 196,
   "metadata": {
    "collapsed": false
   },
   "outputs": [],
   "source": [
    "alpha_prior = 210\n",
    "beta_prior = 1790"
   ]
  },
  {
   "cell_type": "code",
   "execution_count": 197,
   "metadata": {
    "collapsed": true
   },
   "outputs": [],
   "source": [
    "# Calculate Mean difference and Pooled Standard Error\n",
    "lift['alpha_inf'] = alpha_prior + lift['y']\n",
    "lift['Beta_inf'] = beta_prior + lift['n'] - lift['y']\n",
    "\n",
    "# BAU values\n",
    "A_alpha_unf = lift.loc[ctrl_idx, 'alpha_inf'][0]\n",
    "A_Beta_unf = lift.loc[ctrl_idx, 'Beta_inf'][0]"
   ]
  },
  {
   "cell_type": "code",
   "execution_count": 198,
   "metadata": {
    "collapsed": false,
    "scrolled": true
   },
   "outputs": [],
   "source": [
    "lift['bayes_inf_mean'] = lift.apply(lambda df : np.mean(\n",
    "                                                    AB_diff(A_alpha_unf, A_Beta_unf,\n",
    "                                                    df['alpha_inf'], df['Beta_inf'])\n",
    "                                                    ), axis=1)\n",
    "\n",
    "lift['bayes_inf_std'] = lift.apply(lambda df : np.std(\n",
    "                                                    AB_diff(A_alpha_unf, A_Beta_unf,\n",
    "                                                    df['alpha_inf'], df['Beta_inf'])\n",
    "                                                    ), axis=1)"
   ]
  },
  {
   "cell_type": "code",
   "execution_count": 199,
   "metadata": {
    "collapsed": false,
    "scrolled": true
   },
   "outputs": [
    {
     "data": {
      "text/plain": [
       "<matplotlib.lines.Line2D at 0x7fcea3b22048>"
      ]
     },
     "execution_count": 199,
     "metadata": {},
     "output_type": "execute_result"
    },
    {
     "data": {
      "image/png": "[encoded data removed]",
      "text/plain": [
       "<Figure size 360x288 with 1 Axes>"
      ]
     },
     "metadata": {
      "needs_background": "light"
     },
     "output_type": "display_data"
    }
   ],
   "source": [
    "fig, ax = plt.subplots(figsize=(5,4))\n",
    "trans1 = Affine2D().translate(0.0, -0.2) + ax.transData\n",
    "trans2 = Affine2D().translate(0.0, +0.0) + ax.transData\n",
    "trans3 = Affine2D().translate(0.0, +0.2) + ax.transData\n",
    "\n",
    "plt.errorbar(x=lift['mean'], y=lift.index, xerr=lift['pooled_stderr'], \n",
    "             fmt='o', label='Frequentist', transform=trans1)\n",
    "\n",
    "plt.errorbar(x=lift['bayes_unf_mean'], y=lift.index, xerr=lift['bayes_unf_std'], \n",
    "             fmt='o', label='Uninformed Bayes', transform=trans2)\n",
    "\n",
    "plt.errorbar(x=lift['bayes_inf_mean'], y=lift.index, xerr=lift['bayes_inf_std'], \n",
    "             fmt='o', label='Informed Bayes', transform=trans3)\n",
    "\n",
    "plt.legend()\n",
    "plt.axvline(x=0, color='red', linestyle='--')"
   ]
  },
  {
   "cell_type": "markdown",
   "metadata": {},
   "source": [
    "## Observations\n",
    "\n",
    "1. The uninformed prior adds in almost no regularization to our results and produces a result very similar to the frequentist method\n",
    "\n",
    "2. Using our BAU web page as a prior strongly regularizes each test. This may provide too conservative of a result. Instead we may wish to \n",
    "\n",
    "In some ways you might consider the setting of the prior \"arbitrary\", which is why I encourage to only use a strong prior when there is strong inuition to do so. Alternately, you can use a hierarchical prior which I discuss in another blog post"
   ]
  },
  {
   "cell_type": "code",
   "execution_count": null,
   "metadata": {
    "collapsed": true
   },
   "outputs": [],
   "source": []
  }
 ],
 "metadata": {
  "kernelspec": {
   "display_name": "Python 3",
   "language": "python",
   "name": "python3"
  },
  "language_info": {
   "codemirror_mode": {
    "name": "ipython",
    "version": 3
   },
   "file_extension": ".py",
   "mimetype": "text/x-python",
   "name": "python",
   "nbconvert_exporter": "python",
   "pygments_lexer": "ipython3",
   "version": "3.5.4"
  },
  "toc": {
   "base_numbering": 1,
   "nav_menu": {},
   "number_sections": true,
   "sideBar": true,
   "skip_h1_title": false,
   "title_cell": "Table of Contents",
   "title_sidebar": "Contents",
   "toc_cell": false,
   "toc_position": {},
   "toc_section_display": true,
   "toc_window_display": false
  }
 },
 "nbformat": 4,
 "nbformat_minor": 0
}

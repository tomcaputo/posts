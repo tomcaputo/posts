{
  "nbformat": 4,
  "nbformat_minor": 0,
  "metadata": {
    "colab": {
      "provenance": [],
      "machine_shape": "hm",
      "authorship_tag": "ABX9TyP4gLjo4lj0ZHwSZVV1wa1E",
      "include_colab_link": true
    },
    "kernelspec": {
      "name": "python3",
      "display_name": "Python 3"
    },
    "language_info": {
      "name": "python"
    }
  },
  "cells": [
    {
      "cell_type": "markdown",
      "metadata": {
        "id": "view-in-github",
        "colab_type": "text"
      },
      "source": [
        "<a href=\"https://colab.research.google.com/github/tomcaputo/posts/blob/master/Fraud_GBM.ipynb\" target=\"_parent\"><img src=\"https://colab.research.google.com/assets/colab-badge.svg\" alt=\"Open In Colab\"/></a>"
      ]
    },
    {
      "cell_type": "code",
      "execution_count": null,
      "metadata": {
        "id": "LByverQz84q9",
        "colab": {
          "base_uri": "https://localhost:8080/"
        },
        "outputId": "aaefc688-6a50-426b-eea5-f40a3723d4c5"
      },
      "outputs": [
        {
          "output_type": "stream",
          "name": "stdout",
          "text": [
            "Requirement already satisfied: plotnine in /usr/local/lib/python3.10/dist-packages (0.12.3)\n",
            "Requirement already satisfied: matplotlib>=3.6.0 in /usr/local/lib/python3.10/dist-packages (from plotnine) (3.7.1)\n",
            "Requirement already satisfied: mizani<0.10.0,>0.9.0 in /usr/local/lib/python3.10/dist-packages (from plotnine) (0.9.3)\n",
            "Requirement already satisfied: numpy>=1.23.0 in /usr/local/lib/python3.10/dist-packages (from plotnine) (1.23.5)\n",
            "Requirement already satisfied: pandas>=1.5.0 in /usr/local/lib/python3.10/dist-packages (from plotnine) (1.5.3)\n",
            "Requirement already satisfied: patsy>=0.5.1 in /usr/local/lib/python3.10/dist-packages (from plotnine) (0.5.3)\n",
            "Requirement already satisfied: scipy>=1.5.0 in /usr/local/lib/python3.10/dist-packages (from plotnine) (1.11.3)\n",
            "Requirement already satisfied: statsmodels>=0.14.0 in /usr/local/lib/python3.10/dist-packages (from plotnine) (0.14.0)\n",
            "Requirement already satisfied: contourpy>=1.0.1 in /usr/local/lib/python3.10/dist-packages (from matplotlib>=3.6.0->plotnine) (1.1.1)\n",
            "Requirement already satisfied: cycler>=0.10 in /usr/local/lib/python3.10/dist-packages (from matplotlib>=3.6.0->plotnine) (0.12.1)\n",
            "Requirement already satisfied: fonttools>=4.22.0 in /usr/local/lib/python3.10/dist-packages (from matplotlib>=3.6.0->plotnine) (4.43.1)\n",
            "Requirement already satisfied: kiwisolver>=1.0.1 in /usr/local/lib/python3.10/dist-packages (from matplotlib>=3.6.0->plotnine) (1.4.5)\n",
            "Requirement already satisfied: packaging>=20.0 in /usr/local/lib/python3.10/dist-packages (from matplotlib>=3.6.0->plotnine) (23.2)\n",
            "Requirement already satisfied: pillow>=6.2.0 in /usr/local/lib/python3.10/dist-packages (from matplotlib>=3.6.0->plotnine) (9.4.0)\n",
            "Requirement already satisfied: pyparsing>=2.3.1 in /usr/local/lib/python3.10/dist-packages (from matplotlib>=3.6.0->plotnine) (3.1.1)\n",
            "Requirement already satisfied: python-dateutil>=2.7 in /usr/local/lib/python3.10/dist-packages (from matplotlib>=3.6.0->plotnine) (2.8.2)\n",
            "Requirement already satisfied: pytz>=2020.1 in /usr/local/lib/python3.10/dist-packages (from pandas>=1.5.0->plotnine) (2023.3.post1)\n",
            "Requirement already satisfied: six in /usr/local/lib/python3.10/dist-packages (from patsy>=0.5.1->plotnine) (1.16.0)\n"
          ]
        }
      ],
      "source": [
        "!pip install plotnine\n",
        "!pip install lightgbm\n",
        "!pip install optuna"
      ]
    },
    {
      "cell_type": "code",
      "source": [],
      "metadata": {
        "id": "JsC2mXLOQCAZ"
      },
      "execution_count": null,
      "outputs": []
    },
    {
      "cell_type": "code",
      "source": [
        "from psutil import virtual_memory\n",
        "ram_gb = virtual_memory().total / 1e9\n",
        "ram_gb"
      ],
      "metadata": {
        "colab": {
          "base_uri": "https://localhost:8080/"
        },
        "id": "bxA4uobWvlzi",
        "outputId": "99a8bb3d-e969-4b66-f7ea-f36cb14a0548"
      },
      "execution_count": null,
      "outputs": [
        {
          "output_type": "execute_result",
          "data": {
            "text/plain": [
              "54.757900288"
            ]
          },
          "metadata": {},
          "execution_count": 39
        }
      ]
    },
    {
      "cell_type": "code",
      "source": [
        "import pandas as pd\n",
        "import numpy as np\n",
        "import sys"
      ],
      "metadata": {
        "id": "TfnChKpaemIE"
      },
      "execution_count": null,
      "outputs": []
    },
    {
      "cell_type": "code",
      "source": [
        "import time"
      ],
      "metadata": {
        "id": "tmBcXNzAVAfI"
      },
      "execution_count": null,
      "outputs": []
    },
    {
      "cell_type": "code",
      "source": [
        "import plotnine as p\n",
        "import seaborn as sns"
      ],
      "metadata": {
        "id": "q5q_5rFPTxqw"
      },
      "execution_count": null,
      "outputs": []
    },
    {
      "cell_type": "code",
      "source": [
        "import matplotlib.pyplot as plt\n",
        "from sklearn.preprocessing import LabelEncoder"
      ],
      "metadata": {
        "id": "udnbUjBjXrIU"
      },
      "execution_count": null,
      "outputs": []
    },
    {
      "cell_type": "code",
      "source": [
        "sys.path.append(\"/content/drive/MyDrive/Colab Notebooks/Fraud\")\n",
        "from google.colab import drive\n",
        "drive.mount('/content/drive')\n",
        "dir = '/content/drive/MyDrive/Colab Notebooks/Fraud/'"
      ],
      "metadata": {
        "id": "9jYGrhjc-cIO",
        "colab": {
          "base_uri": "https://localhost:8080/"
        },
        "outputId": "3e693b02-ffcb-4b43-ea2b-d980bb9f7377"
      },
      "execution_count": null,
      "outputs": [
        {
          "output_type": "stream",
          "name": "stdout",
          "text": [
            "Mounted at /content/drive\n"
          ]
        }
      ]
    },
    {
      "cell_type": "code",
      "source": [
        "train_trans = pd.read_csv(dir + 'data/train_transaction.csv') # transactions details\n",
        "train_identity = pd.read_csv(dir + 'data/train_identity.csv') # additional details about the payer\n",
        "test_trans = pd.read_csv(dir + 'data/test_transaction.csv')\n",
        "test_identity = pd.read_csv(dir + 'data/test_identity.csv')"
      ],
      "metadata": {
        "id": "jabesWuT_GVX"
      },
      "execution_count": null,
      "outputs": []
    },
    {
      "cell_type": "code",
      "source": [
        "train = pd.merge(train_trans, train_identity, on='TransactionID', how='outer')"
      ],
      "metadata": {
        "id": "ZzhkEqJL7A5K"
      },
      "execution_count": null,
      "outputs": []
    },
    {
      "cell_type": "code",
      "source": [
        "train_trans.head()"
      ],
      "metadata": {
        "colab": {
          "base_uri": "https://localhost:8080/",
          "height": 256
        },
        "id": "RHUZlKM67IYj",
        "outputId": "0a590239-ba42-42e4-fd5c-284cca191417"
      },
      "execution_count": null,
      "outputs": [
        {
          "output_type": "execute_result",
          "data": {
            "text/plain": [
              "   TransactionID  isFraud  TransactionDT  TransactionAmt ProductCD  card1  \\\n",
              "0        2987000        0          86400            68.5         W  13926   \n",
              "1        2987001        0          86401            29.0         W   2755   \n",
              "2        2987002        0          86469            59.0         W   4663   \n",
              "3        2987003        0          86499            50.0         W  18132   \n",
              "4        2987004        0          86506            50.0         H   4497   \n",
              "\n",
              "   card2  card3       card4  card5  ... V330  V331  V332  V333  V334 V335  \\\n",
              "0    NaN  150.0    discover  142.0  ...  NaN   NaN   NaN   NaN   NaN  NaN   \n",
              "1  404.0  150.0  mastercard  102.0  ...  NaN   NaN   NaN   NaN   NaN  NaN   \n",
              "2  490.0  150.0        visa  166.0  ...  NaN   NaN   NaN   NaN   NaN  NaN   \n",
              "3  567.0  150.0  mastercard  117.0  ...  NaN   NaN   NaN   NaN   NaN  NaN   \n",
              "4  514.0  150.0  mastercard  102.0  ...  0.0   0.0   0.0   0.0   0.0  0.0   \n",
              "\n",
              "  V336  V337  V338  V339  \n",
              "0  NaN   NaN   NaN   NaN  \n",
              "1  NaN   NaN   NaN   NaN  \n",
              "2  NaN   NaN   NaN   NaN  \n",
              "3  NaN   NaN   NaN   NaN  \n",
              "4  0.0   0.0   0.0   0.0  \n",
              "\n",
              "[5 rows x 394 columns]"
            ],
            "text/html": [
              "\n",
              "  <div id=\"df-010936d3-0385-45f4-8202-047c59d3a2b9\" class=\"colab-df-container\">\n",
              "    <div>\n",
              "<style scoped>\n",
              "    .dataframe tbody tr th:only-of-type {\n",
              "        vertical-align: middle;\n",
              "    }\n",
              "\n",
              "    .dataframe tbody tr th {\n",
              "        vertical-align: top;\n",
              "    }\n",
              "\n",
              "    .dataframe thead th {\n",
              "        text-align: right;\n",
              "    }\n",
              "</style>\n",
              "<table border=\"1\" class=\"dataframe\">\n",
              "  <thead>\n",
              "    <tr style=\"text-align: right;\">\n",
              "      <th></th>\n",
              "      <th>TransactionID</th>\n",
              "      <th>isFraud</th>\n",
              "      <th>TransactionDT</th>\n",
              "      <th>TransactionAmt</th>\n",
              "      <th>ProductCD</th>\n",
              "      <th>card1</th>\n",
              "      <th>card2</th>\n",
              "      <th>card3</th>\n",
              "      <th>card4</th>\n",
              "      <th>card5</th>\n",
              "      <th>...</th>\n",
              "      <th>V330</th>\n",
              "      <th>V331</th>\n",
              "      <th>V332</th>\n",
              "      <th>V333</th>\n",
              "      <th>V334</th>\n",
              "      <th>V335</th>\n",
              "      <th>V336</th>\n",
              "      <th>V337</th>\n",
              "      <th>V338</th>\n",
              "      <th>V339</th>\n",
              "    </tr>\n",
              "  </thead>\n",
              "  <tbody>\n",
              "    <tr>\n",
              "      <th>0</th>\n",
              "      <td>2987000</td>\n",
              "      <td>0</td>\n",
              "      <td>86400</td>\n",
              "      <td>68.5</td>\n",
              "      <td>W</td>\n",
              "      <td>13926</td>\n",
              "      <td>NaN</td>\n",
              "      <td>150.0</td>\n",
              "      <td>discover</td>\n",
              "      <td>142.0</td>\n",
              "      <td>...</td>\n",
              "      <td>NaN</td>\n",
              "      <td>NaN</td>\n",
              "      <td>NaN</td>\n",
              "      <td>NaN</td>\n",
              "      <td>NaN</td>\n",
              "      <td>NaN</td>\n",
              "      <td>NaN</td>\n",
              "      <td>NaN</td>\n",
              "      <td>NaN</td>\n",
              "      <td>NaN</td>\n",
              "    </tr>\n",
              "    <tr>\n",
              "      <th>1</th>\n",
              "      <td>2987001</td>\n",
              "      <td>0</td>\n",
              "      <td>86401</td>\n",
              "      <td>29.0</td>\n",
              "      <td>W</td>\n",
              "      <td>2755</td>\n",
              "      <td>404.0</td>\n",
              "      <td>150.0</td>\n",
              "      <td>mastercard</td>\n",
              "      <td>102.0</td>\n",
              "      <td>...</td>\n",
              "      <td>NaN</td>\n",
              "      <td>NaN</td>\n",
              "      <td>NaN</td>\n",
              "      <td>NaN</td>\n",
              "      <td>NaN</td>\n",
              "      <td>NaN</td>\n",
              "      <td>NaN</td>\n",
              "      <td>NaN</td>\n",
              "      <td>NaN</td>\n",
              "      <td>NaN</td>\n",
              "    </tr>\n",
              "    <tr>\n",
              "      <th>2</th>\n",
              "      <td>2987002</td>\n",
              "      <td>0</td>\n",
              "      <td>86469</td>\n",
              "      <td>59.0</td>\n",
              "      <td>W</td>\n",
              "      <td>4663</td>\n",
              "      <td>490.0</td>\n",
              "      <td>150.0</td>\n",
              "      <td>visa</td>\n",
              "      <td>166.0</td>\n",
              "      <td>...</td>\n",
              "      <td>NaN</td>\n",
              "      <td>NaN</td>\n",
              "      <td>NaN</td>\n",
              "      <td>NaN</td>\n",
              "      <td>NaN</td>\n",
              "      <td>NaN</td>\n",
              "      <td>NaN</td>\n",
              "      <td>NaN</td>\n",
              "      <td>NaN</td>\n",
              "      <td>NaN</td>\n",
              "    </tr>\n",
              "    <tr>\n",
              "      <th>3</th>\n",
              "      <td>2987003</td>\n",
              "      <td>0</td>\n",
              "      <td>86499</td>\n",
              "      <td>50.0</td>\n",
              "      <td>W</td>\n",
              "      <td>18132</td>\n",
              "      <td>567.0</td>\n",
              "      <td>150.0</td>\n",
              "      <td>mastercard</td>\n",
              "      <td>117.0</td>\n",
              "      <td>...</td>\n",
              "      <td>NaN</td>\n",
              "      <td>NaN</td>\n",
              "      <td>NaN</td>\n",
              "      <td>NaN</td>\n",
              "      <td>NaN</td>\n",
              "      <td>NaN</td>\n",
              "      <td>NaN</td>\n",
              "      <td>NaN</td>\n",
              "      <td>NaN</td>\n",
              "      <td>NaN</td>\n",
              "    </tr>\n",
              "    <tr>\n",
              "      <th>4</th>\n",
              "      <td>2987004</td>\n",
              "      <td>0</td>\n",
              "      <td>86506</td>\n",
              "      <td>50.0</td>\n",
              "      <td>H</td>\n",
              "      <td>4497</td>\n",
              "      <td>514.0</td>\n",
              "      <td>150.0</td>\n",
              "      <td>mastercard</td>\n",
              "      <td>102.0</td>\n",
              "      <td>...</td>\n",
              "      <td>0.0</td>\n",
              "      <td>0.0</td>\n",
              "      <td>0.0</td>\n",
              "      <td>0.0</td>\n",
              "      <td>0.0</td>\n",
              "      <td>0.0</td>\n",
              "      <td>0.0</td>\n",
              "      <td>0.0</td>\n",
              "      <td>0.0</td>\n",
              "      <td>0.0</td>\n",
              "    </tr>\n",
              "  </tbody>\n",
              "</table>\n",
              "<p>5 rows × 394 columns</p>\n",
              "</div>\n",
              "    <div class=\"colab-df-buttons\">\n",
              "\n",
              "  <div class=\"colab-df-container\">\n",
              "    <button class=\"colab-df-convert\" onclick=\"convertToInteractive('df-010936d3-0385-45f4-8202-047c59d3a2b9')\"\n",
              "            title=\"Convert this dataframe to an interactive table.\"\n",
              "            style=\"display:none;\">\n",
              "\n",
              "  <svg xmlns=\"http://www.w3.org/2000/svg\" height=\"24px\" viewBox=\"0 -960 960 960\">\n",
              "    <path d=\"M120-120v-720h720v720H120Zm60-500h600v-160H180v160Zm220 220h160v-160H400v160Zm0 220h160v-160H400v160ZM180-400h160v-160H180v160Zm440 0h160v-160H620v160ZM180-180h160v-160H180v160Zm440 0h160v-160H620v160Z\"/>\n",
              "  </svg>\n",
              "    </button>\n",
              "\n",
              "  <style>\n",
              "    .colab-df-container {\n",
              "      display:flex;\n",
              "      gap: 12px;\n",
              "    }\n",
              "\n",
              "    .colab-df-convert {\n",
              "      background-color: #E8F0FE;\n",
              "      border: none;\n",
              "      border-radius: 50%;\n",
              "      cursor: pointer;\n",
              "      display: none;\n",
              "      fill: #1967D2;\n",
              "      height: 32px;\n",
              "      padding: 0 0 0 0;\n",
              "      width: 32px;\n",
              "    }\n",
              "\n",
              "    .colab-df-convert:hover {\n",
              "      background-color: #E2EBFA;\n",
              "      box-shadow: 0px 1px 2px rgba(60, 64, 67, 0.3), 0px 1px 3px 1px rgba(60, 64, 67, 0.15);\n",
              "      fill: #174EA6;\n",
              "    }\n",
              "\n",
              "    .colab-df-buttons div {\n",
              "      margin-bottom: 4px;\n",
              "    }\n",
              "\n",
              "    [theme=dark] .colab-df-convert {\n",
              "      background-color: #3B4455;\n",
              "      fill: #D2E3FC;\n",
              "    }\n",
              "\n",
              "    [theme=dark] .colab-df-convert:hover {\n",
              "      background-color: #434B5C;\n",
              "      box-shadow: 0px 1px 3px 1px rgba(0, 0, 0, 0.15);\n",
              "      filter: drop-shadow(0px 1px 2px rgba(0, 0, 0, 0.3));\n",
              "      fill: #FFFFFF;\n",
              "    }\n",
              "  </style>\n",
              "\n",
              "    <script>\n",
              "      const buttonEl =\n",
              "        document.querySelector('#df-010936d3-0385-45f4-8202-047c59d3a2b9 button.colab-df-convert');\n",
              "      buttonEl.style.display =\n",
              "        google.colab.kernel.accessAllowed ? 'block' : 'none';\n",
              "\n",
              "      async function convertToInteractive(key) {\n",
              "        const element = document.querySelector('#df-010936d3-0385-45f4-8202-047c59d3a2b9');\n",
              "        const dataTable =\n",
              "          await google.colab.kernel.invokeFunction('convertToInteractive',\n",
              "                                                    [key], {});\n",
              "        if (!dataTable) return;\n",
              "\n",
              "        const docLinkHtml = 'Like what you see? Visit the ' +\n",
              "          '<a target=\"_blank\" href=https://colab.research.google.com/notebooks/data_table.ipynb>data table notebook</a>'\n",
              "          + ' to learn more about interactive tables.';\n",
              "        element.innerHTML = '';\n",
              "        dataTable['output_type'] = 'display_data';\n",
              "        await google.colab.output.renderOutput(dataTable, element);\n",
              "        const docLink = document.createElement('div');\n",
              "        docLink.innerHTML = docLinkHtml;\n",
              "        element.appendChild(docLink);\n",
              "      }\n",
              "    </script>\n",
              "  </div>\n",
              "\n",
              "\n",
              "<div id=\"df-a6abcd6c-f8ea-498b-8cdf-55fac2157131\">\n",
              "  <button class=\"colab-df-quickchart\" onclick=\"quickchart('df-a6abcd6c-f8ea-498b-8cdf-55fac2157131')\"\n",
              "            title=\"Suggest charts.\"\n",
              "            style=\"display:none;\">\n",
              "\n",
              "<svg xmlns=\"http://www.w3.org/2000/svg\" height=\"24px\"viewBox=\"0 0 24 24\"\n",
              "     width=\"24px\">\n",
              "    <g>\n",
              "        <path d=\"M19 3H5c-1.1 0-2 .9-2 2v14c0 1.1.9 2 2 2h14c1.1 0 2-.9 2-2V5c0-1.1-.9-2-2-2zM9 17H7v-7h2v7zm4 0h-2V7h2v10zm4 0h-2v-4h2v4z\"/>\n",
              "    </g>\n",
              "</svg>\n",
              "  </button>\n",
              "\n",
              "<style>\n",
              "  .colab-df-quickchart {\n",
              "      --bg-color: #E8F0FE;\n",
              "      --fill-color: #1967D2;\n",
              "      --hover-bg-color: #E2EBFA;\n",
              "      --hover-fill-color: #174EA6;\n",
              "      --disabled-fill-color: #AAA;\n",
              "      --disabled-bg-color: #DDD;\n",
              "  }\n",
              "\n",
              "  [theme=dark] .colab-df-quickchart {\n",
              "      --bg-color: #3B4455;\n",
              "      --fill-color: #D2E3FC;\n",
              "      --hover-bg-color: #434B5C;\n",
              "      --hover-fill-color: #FFFFFF;\n",
              "      --disabled-bg-color: #3B4455;\n",
              "      --disabled-fill-color: #666;\n",
              "  }\n",
              "\n",
              "  .colab-df-quickchart {\n",
              "    background-color: var(--bg-color);\n",
              "    border: none;\n",
              "    border-radius: 50%;\n",
              "    cursor: pointer;\n",
              "    display: none;\n",
              "    fill: var(--fill-color);\n",
              "    height: 32px;\n",
              "    padding: 0;\n",
              "    width: 32px;\n",
              "  }\n",
              "\n",
              "  .colab-df-quickchart:hover {\n",
              "    background-color: var(--hover-bg-color);\n",
              "    box-shadow: 0 1px 2px rgba(60, 64, 67, 0.3), 0 1px 3px 1px rgba(60, 64, 67, 0.15);\n",
              "    fill: var(--button-hover-fill-color);\n",
              "  }\n",
              "\n",
              "  .colab-df-quickchart-complete:disabled,\n",
              "  .colab-df-quickchart-complete:disabled:hover {\n",
              "    background-color: var(--disabled-bg-color);\n",
              "    fill: var(--disabled-fill-color);\n",
              "    box-shadow: none;\n",
              "  }\n",
              "\n",
              "  .colab-df-spinner {\n",
              "    border: 2px solid var(--fill-color);\n",
              "    border-color: transparent;\n",
              "    border-bottom-color: var(--fill-color);\n",
              "    animation:\n",
              "      spin 1s steps(1) infinite;\n",
              "  }\n",
              "\n",
              "  @keyframes spin {\n",
              "    0% {\n",
              "      border-color: transparent;\n",
              "      border-bottom-color: var(--fill-color);\n",
              "      border-left-color: var(--fill-color);\n",
              "    }\n",
              "    20% {\n",
              "      border-color: transparent;\n",
              "      border-left-color: var(--fill-color);\n",
              "      border-top-color: var(--fill-color);\n",
              "    }\n",
              "    30% {\n",
              "      border-color: transparent;\n",
              "      border-left-color: var(--fill-color);\n",
              "      border-top-color: var(--fill-color);\n",
              "      border-right-color: var(--fill-color);\n",
              "    }\n",
              "    40% {\n",
              "      border-color: transparent;\n",
              "      border-right-color: var(--fill-color);\n",
              "      border-top-color: var(--fill-color);\n",
              "    }\n",
              "    60% {\n",
              "      border-color: transparent;\n",
              "      border-right-color: var(--fill-color);\n",
              "    }\n",
              "    80% {\n",
              "      border-color: transparent;\n",
              "      border-right-color: var(--fill-color);\n",
              "      border-bottom-color: var(--fill-color);\n",
              "    }\n",
              "    90% {\n",
              "      border-color: transparent;\n",
              "      border-bottom-color: var(--fill-color);\n",
              "    }\n",
              "  }\n",
              "</style>\n",
              "\n",
              "  <script>\n",
              "    async function quickchart(key) {\n",
              "      const quickchartButtonEl =\n",
              "        document.querySelector('#' + key + ' button');\n",
              "      quickchartButtonEl.disabled = true;  // To prevent multiple clicks.\n",
              "      quickchartButtonEl.classList.add('colab-df-spinner');\n",
              "      try {\n",
              "        const charts = await google.colab.kernel.invokeFunction(\n",
              "            'suggestCharts', [key], {});\n",
              "      } catch (error) {\n",
              "        console.error('Error during call to suggestCharts:', error);\n",
              "      }\n",
              "      quickchartButtonEl.classList.remove('colab-df-spinner');\n",
              "      quickchartButtonEl.classList.add('colab-df-quickchart-complete');\n",
              "    }\n",
              "    (() => {\n",
              "      let quickchartButtonEl =\n",
              "        document.querySelector('#df-a6abcd6c-f8ea-498b-8cdf-55fac2157131 button');\n",
              "      quickchartButtonEl.style.display =\n",
              "        google.colab.kernel.accessAllowed ? 'block' : 'none';\n",
              "    })();\n",
              "  </script>\n",
              "</div>\n",
              "\n",
              "    </div>\n",
              "  </div>\n"
            ]
          },
          "metadata": {},
          "execution_count": 12
        }
      ]
    },
    {
      "cell_type": "markdown",
      "source": [
        "## EDA\n",
        "\n",
        "Questions to answer:\n",
        "\n",
        "1. Target Distribution\n",
        "2. Missing Data\n",
        "3. Outliers\n",
        "4. Categorical Variables\n",
        "5. Patterns between vars and target"
      ],
      "metadata": {
        "id": "A5Mhpm-WFtrk"
      }
    },
    {
      "cell_type": "markdown",
      "source": [
        "### Feature Overview\n",
        "\n",
        "#### Transaction Data\n",
        "\n",
        "- Transaction amt\n",
        "- ProductCD\n",
        "- card 1-6: card features\n",
        "- addr 1-2: purchaser address, receiver address\n",
        "  - count encode, otherwise you can historical fraud encode\n",
        "- distance 1-2: distance between merchant and purchaser\n",
        "- P_emaildomain: purchaser email domain\n",
        "- R_emaildomain: reciever email domain\n",
        "- C1-14: Counts\n",
        "- D1-15: date variables\n",
        "- M1-9: match (bool)\n",
        "\n",
        "#### Identity\n",
        "Only has 25% coverage on Transaction Data\n",
        "\n",
        "- DeviceType\n",
        "- DeviceInfo\n",
        "- id_1 — id_38\n",
        "\n",
        "#### Continuous Data\n",
        "- Transaction amt - log transform\n",
        "- C1-14: Counts - maybe Transform\n",
        "- dist 1,2 - log transform\n",
        "- everything else just do count\n",
        "\n",
        "#### Categorical Data\n",
        "- M1-9\n",
        "  - M1 has very little information\n",
        "- P_emaildomain\n",
        "- R_emaildomain\n",
        "- addr 1-2\n",
        "  - cardinality too high for dummy. but can use historical data here as well to dummy encode\n",
        "- card1-card6\n",
        "  - card 4 and 6 can be dummy encoded\n",
        "  - cardinality too high on other but can use historical fraud rate as a metric\n",
        "- DeviceType\n",
        "- DeviceInfo\n",
        "- id_12 — id_38\n",
        "\n",
        "#### Optimization Criteria: cross-entropy\n",
        "#### Performance Metric: ROC\n",
        "-"
      ],
      "metadata": {
        "id": "PcRDNacEGeIW"
      }
    },
    {
      "cell_type": "markdown",
      "source": [
        "## EDA\n",
        "\n",
        "### Target"
      ],
      "metadata": {
        "id": "IvnvtA9YURe-"
      }
    },
    {
      "cell_type": "code",
      "source": [
        "# Fraud Rates\n",
        "train_trans['isFraud'].agg(['mean', 'sum', 'count'])"
      ],
      "metadata": {
        "colab": {
          "base_uri": "https://localhost:8080/"
        },
        "id": "Zf_KFR6VUTbH",
        "outputId": "fdb43186-ac10-4cc0-9a74-ac2fb0a497b4"
      },
      "execution_count": null,
      "outputs": [
        {
          "output_type": "execute_result",
          "data": {
            "text/plain": [
              "mean          0.03499\n",
              "sum       20663.00000\n",
              "count    590540.00000\n",
              "Name: isFraud, dtype: float64"
            ]
          },
          "metadata": {},
          "execution_count": 13
        }
      ]
    },
    {
      "cell_type": "markdown",
      "source": [
        "### Continuous data"
      ],
      "metadata": {
        "id": "I0DpV84pn8_A"
      }
    },
    {
      "cell_type": "code",
      "source": [
        "train_trans.select_dtypes('float64').columns"
      ],
      "metadata": {
        "id": "xwZoLMJC0L7K",
        "colab": {
          "base_uri": "https://localhost:8080/"
        },
        "outputId": "a4570ff9-8ab8-47e2-e104-14a3bc8f77fb"
      },
      "execution_count": null,
      "outputs": [
        {
          "output_type": "execute_result",
          "data": {
            "text/plain": [
              "Index(['TransactionAmt', 'card2', 'card3', 'card5', 'addr1', 'addr2', 'dist1',\n",
              "       'dist2', 'C1', 'C2',\n",
              "       ...\n",
              "       'V330', 'V331', 'V332', 'V333', 'V334', 'V335', 'V336', 'V337', 'V338',\n",
              "       'V339'],\n",
              "      dtype='object', length=376)"
            ]
          },
          "metadata": {},
          "execution_count": 14
        }
      ]
    },
    {
      "cell_type": "code",
      "source": [
        "train_trans.select_dtypes('int64').columns"
      ],
      "metadata": {
        "colab": {
          "base_uri": "https://localhost:8080/"
        },
        "id": "hDtWWKTuBiad",
        "outputId": "6b3c1fc2-c5a0-418d-8a84-dd5916859fca"
      },
      "execution_count": null,
      "outputs": [
        {
          "output_type": "execute_result",
          "data": {
            "text/plain": [
              "Index(['TransactionID', 'isFraud', 'TransactionDT', 'card1'], dtype='object')"
            ]
          },
          "metadata": {},
          "execution_count": 15
        }
      ]
    },
    {
      "cell_type": "code",
      "source": [
        "train_identity.select_dtypes('float64').columns"
      ],
      "metadata": {
        "colab": {
          "base_uri": "https://localhost:8080/"
        },
        "id": "wiZz1PcXBqA6",
        "outputId": "943669f3-2ffd-46ca-bd22-6b381592f14c"
      },
      "execution_count": null,
      "outputs": [
        {
          "output_type": "execute_result",
          "data": {
            "text/plain": [
              "Index(['id_01', 'id_02', 'id_03', 'id_04', 'id_05', 'id_06', 'id_07', 'id_08',\n",
              "       'id_09', 'id_10', 'id_11', 'id_13', 'id_14', 'id_17', 'id_18', 'id_19',\n",
              "       'id_20', 'id_21', 'id_22', 'id_24', 'id_25', 'id_26', 'id_32'],\n",
              "      dtype='object')"
            ]
          },
          "metadata": {},
          "execution_count": 16
        }
      ]
    },
    {
      "cell_type": "code",
      "source": [
        "train_identity.select_dtypes('int64').columns"
      ],
      "metadata": {
        "colab": {
          "base_uri": "https://localhost:8080/"
        },
        "id": "Q_gR1YlnBy0c",
        "outputId": "9b0e13ba-7352-4f72-b130-a1d79f0467f7"
      },
      "execution_count": null,
      "outputs": [
        {
          "output_type": "execute_result",
          "data": {
            "text/plain": [
              "Index(['TransactionID'], dtype='object')"
            ]
          },
          "metadata": {},
          "execution_count": 17
        }
      ]
    },
    {
      "cell_type": "code",
      "source": [
        "count_cols = train_trans.columns[train_trans.columns.str.contains('^C[0-9]')]\n",
        "train_trans.groupby('isFraud')[count_cols].mean().T"
      ],
      "metadata": {
        "colab": {
          "base_uri": "https://localhost:8080/",
          "height": 488
        },
        "id": "OQui5xFqoZI3",
        "outputId": "48fcb460-1fae-4108-8e82-68d11ebab48d"
      },
      "execution_count": null,
      "outputs": [
        {
          "output_type": "execute_result",
          "data": {
            "text/plain": [
              "isFraud          0          1\n",
              "C1       13.314952  35.535740\n",
              "C2       14.173283  45.509413\n",
              "C3        0.005840   0.000242\n",
              "C4        3.693878  15.077336\n",
              "C5        5.722537   1.406717\n",
              "C6        8.786377  16.923148\n",
              "C7        2.517484  11.977157\n",
              "C8        4.560881  21.242608\n",
              "C9        4.580904   1.703964\n",
              "C10       4.723526  19.493926\n",
              "C11       9.747825  23.857475\n",
              "C12       3.549703  18.597541\n",
              "C13      32.814474  24.967768\n",
              "C14       8.220491  10.356047"
            ],
            "text/html": [
              "\n",
              "  <div id=\"df-d4e5dc8c-5ea8-4877-9031-5ac42a24cff8\" class=\"colab-df-container\">\n",
              "    <div>\n",
              "<style scoped>\n",
              "    .dataframe tbody tr th:only-of-type {\n",
              "        vertical-align: middle;\n",
              "    }\n",
              "\n",
              "    .dataframe tbody tr th {\n",
              "        vertical-align: top;\n",
              "    }\n",
              "\n",
              "    .dataframe thead th {\n",
              "        text-align: right;\n",
              "    }\n",
              "</style>\n",
              "<table border=\"1\" class=\"dataframe\">\n",
              "  <thead>\n",
              "    <tr style=\"text-align: right;\">\n",
              "      <th>isFraud</th>\n",
              "      <th>0</th>\n",
              "      <th>1</th>\n",
              "    </tr>\n",
              "  </thead>\n",
              "  <tbody>\n",
              "    <tr>\n",
              "      <th>C1</th>\n",
              "      <td>13.314952</td>\n",
              "      <td>35.535740</td>\n",
              "    </tr>\n",
              "    <tr>\n",
              "      <th>C2</th>\n",
              "      <td>14.173283</td>\n",
              "      <td>45.509413</td>\n",
              "    </tr>\n",
              "    <tr>\n",
              "      <th>C3</th>\n",
              "      <td>0.005840</td>\n",
              "      <td>0.000242</td>\n",
              "    </tr>\n",
              "    <tr>\n",
              "      <th>C4</th>\n",
              "      <td>3.693878</td>\n",
              "      <td>15.077336</td>\n",
              "    </tr>\n",
              "    <tr>\n",
              "      <th>C5</th>\n",
              "      <td>5.722537</td>\n",
              "      <td>1.406717</td>\n",
              "    </tr>\n",
              "    <tr>\n",
              "      <th>C6</th>\n",
              "      <td>8.786377</td>\n",
              "      <td>16.923148</td>\n",
              "    </tr>\n",
              "    <tr>\n",
              "      <th>C7</th>\n",
              "      <td>2.517484</td>\n",
              "      <td>11.977157</td>\n",
              "    </tr>\n",
              "    <tr>\n",
              "      <th>C8</th>\n",
              "      <td>4.560881</td>\n",
              "      <td>21.242608</td>\n",
              "    </tr>\n",
              "    <tr>\n",
              "      <th>C9</th>\n",
              "      <td>4.580904</td>\n",
              "      <td>1.703964</td>\n",
              "    </tr>\n",
              "    <tr>\n",
              "      <th>C10</th>\n",
              "      <td>4.723526</td>\n",
              "      <td>19.493926</td>\n",
              "    </tr>\n",
              "    <tr>\n",
              "      <th>C11</th>\n",
              "      <td>9.747825</td>\n",
              "      <td>23.857475</td>\n",
              "    </tr>\n",
              "    <tr>\n",
              "      <th>C12</th>\n",
              "      <td>3.549703</td>\n",
              "      <td>18.597541</td>\n",
              "    </tr>\n",
              "    <tr>\n",
              "      <th>C13</th>\n",
              "      <td>32.814474</td>\n",
              "      <td>24.967768</td>\n",
              "    </tr>\n",
              "    <tr>\n",
              "      <th>C14</th>\n",
              "      <td>8.220491</td>\n",
              "      <td>10.356047</td>\n",
              "    </tr>\n",
              "  </tbody>\n",
              "</table>\n",
              "</div>\n",
              "    <div class=\"colab-df-buttons\">\n",
              "\n",
              "  <div class=\"colab-df-container\">\n",
              "    <button class=\"colab-df-convert\" onclick=\"convertToInteractive('df-d4e5dc8c-5ea8-4877-9031-5ac42a24cff8')\"\n",
              "            title=\"Convert this dataframe to an interactive table.\"\n",
              "            style=\"display:none;\">\n",
              "\n",
              "  <svg xmlns=\"http://www.w3.org/2000/svg\" height=\"24px\" viewBox=\"0 -960 960 960\">\n",
              "    <path d=\"M120-120v-720h720v720H120Zm60-500h600v-160H180v160Zm220 220h160v-160H400v160Zm0 220h160v-160H400v160ZM180-400h160v-160H180v160Zm440 0h160v-160H620v160ZM180-180h160v-160H180v160Zm440 0h160v-160H620v160Z\"/>\n",
              "  </svg>\n",
              "    </button>\n",
              "\n",
              "  <style>\n",
              "    .colab-df-container {\n",
              "      display:flex;\n",
              "      gap: 12px;\n",
              "    }\n",
              "\n",
              "    .colab-df-convert {\n",
              "      background-color: #E8F0FE;\n",
              "      border: none;\n",
              "      border-radius: 50%;\n",
              "      cursor: pointer;\n",
              "      display: none;\n",
              "      fill: #1967D2;\n",
              "      height: 32px;\n",
              "      padding: 0 0 0 0;\n",
              "      width: 32px;\n",
              "    }\n",
              "\n",
              "    .colab-df-convert:hover {\n",
              "      background-color: #E2EBFA;\n",
              "      box-shadow: 0px 1px 2px rgba(60, 64, 67, 0.3), 0px 1px 3px 1px rgba(60, 64, 67, 0.15);\n",
              "      fill: #174EA6;\n",
              "    }\n",
              "\n",
              "    .colab-df-buttons div {\n",
              "      margin-bottom: 4px;\n",
              "    }\n",
              "\n",
              "    [theme=dark] .colab-df-convert {\n",
              "      background-color: #3B4455;\n",
              "      fill: #D2E3FC;\n",
              "    }\n",
              "\n",
              "    [theme=dark] .colab-df-convert:hover {\n",
              "      background-color: #434B5C;\n",
              "      box-shadow: 0px 1px 3px 1px rgba(0, 0, 0, 0.15);\n",
              "      filter: drop-shadow(0px 1px 2px rgba(0, 0, 0, 0.3));\n",
              "      fill: #FFFFFF;\n",
              "    }\n",
              "  </style>\n",
              "\n",
              "    <script>\n",
              "      const buttonEl =\n",
              "        document.querySelector('#df-d4e5dc8c-5ea8-4877-9031-5ac42a24cff8 button.colab-df-convert');\n",
              "      buttonEl.style.display =\n",
              "        google.colab.kernel.accessAllowed ? 'block' : 'none';\n",
              "\n",
              "      async function convertToInteractive(key) {\n",
              "        const element = document.querySelector('#df-d4e5dc8c-5ea8-4877-9031-5ac42a24cff8');\n",
              "        const dataTable =\n",
              "          await google.colab.kernel.invokeFunction('convertToInteractive',\n",
              "                                                    [key], {});\n",
              "        if (!dataTable) return;\n",
              "\n",
              "        const docLinkHtml = 'Like what you see? Visit the ' +\n",
              "          '<a target=\"_blank\" href=https://colab.research.google.com/notebooks/data_table.ipynb>data table notebook</a>'\n",
              "          + ' to learn more about interactive tables.';\n",
              "        element.innerHTML = '';\n",
              "        dataTable['output_type'] = 'display_data';\n",
              "        await google.colab.output.renderOutput(dataTable, element);\n",
              "        const docLink = document.createElement('div');\n",
              "        docLink.innerHTML = docLinkHtml;\n",
              "        element.appendChild(docLink);\n",
              "      }\n",
              "    </script>\n",
              "  </div>\n",
              "\n",
              "\n",
              "<div id=\"df-e5834753-9dd9-491f-8d93-4d4e0484db36\">\n",
              "  <button class=\"colab-df-quickchart\" onclick=\"quickchart('df-e5834753-9dd9-491f-8d93-4d4e0484db36')\"\n",
              "            title=\"Suggest charts.\"\n",
              "            style=\"display:none;\">\n",
              "\n",
              "<svg xmlns=\"http://www.w3.org/2000/svg\" height=\"24px\"viewBox=\"0 0 24 24\"\n",
              "     width=\"24px\">\n",
              "    <g>\n",
              "        <path d=\"M19 3H5c-1.1 0-2 .9-2 2v14c0 1.1.9 2 2 2h14c1.1 0 2-.9 2-2V5c0-1.1-.9-2-2-2zM9 17H7v-7h2v7zm4 0h-2V7h2v10zm4 0h-2v-4h2v4z\"/>\n",
              "    </g>\n",
              "</svg>\n",
              "  </button>\n",
              "\n",
              "<style>\n",
              "  .colab-df-quickchart {\n",
              "      --bg-color: #E8F0FE;\n",
              "      --fill-color: #1967D2;\n",
              "      --hover-bg-color: #E2EBFA;\n",
              "      --hover-fill-color: #174EA6;\n",
              "      --disabled-fill-color: #AAA;\n",
              "      --disabled-bg-color: #DDD;\n",
              "  }\n",
              "\n",
              "  [theme=dark] .colab-df-quickchart {\n",
              "      --bg-color: #3B4455;\n",
              "      --fill-color: #D2E3FC;\n",
              "      --hover-bg-color: #434B5C;\n",
              "      --hover-fill-color: #FFFFFF;\n",
              "      --disabled-bg-color: #3B4455;\n",
              "      --disabled-fill-color: #666;\n",
              "  }\n",
              "\n",
              "  .colab-df-quickchart {\n",
              "    background-color: var(--bg-color);\n",
              "    border: none;\n",
              "    border-radius: 50%;\n",
              "    cursor: pointer;\n",
              "    display: none;\n",
              "    fill: var(--fill-color);\n",
              "    height: 32px;\n",
              "    padding: 0;\n",
              "    width: 32px;\n",
              "  }\n",
              "\n",
              "  .colab-df-quickchart:hover {\n",
              "    background-color: var(--hover-bg-color);\n",
              "    box-shadow: 0 1px 2px rgba(60, 64, 67, 0.3), 0 1px 3px 1px rgba(60, 64, 67, 0.15);\n",
              "    fill: var(--button-hover-fill-color);\n",
              "  }\n",
              "\n",
              "  .colab-df-quickchart-complete:disabled,\n",
              "  .colab-df-quickchart-complete:disabled:hover {\n",
              "    background-color: var(--disabled-bg-color);\n",
              "    fill: var(--disabled-fill-color);\n",
              "    box-shadow: none;\n",
              "  }\n",
              "\n",
              "  .colab-df-spinner {\n",
              "    border: 2px solid var(--fill-color);\n",
              "    border-color: transparent;\n",
              "    border-bottom-color: var(--fill-color);\n",
              "    animation:\n",
              "      spin 1s steps(1) infinite;\n",
              "  }\n",
              "\n",
              "  @keyframes spin {\n",
              "    0% {\n",
              "      border-color: transparent;\n",
              "      border-bottom-color: var(--fill-color);\n",
              "      border-left-color: var(--fill-color);\n",
              "    }\n",
              "    20% {\n",
              "      border-color: transparent;\n",
              "      border-left-color: var(--fill-color);\n",
              "      border-top-color: var(--fill-color);\n",
              "    }\n",
              "    30% {\n",
              "      border-color: transparent;\n",
              "      border-left-color: var(--fill-color);\n",
              "      border-top-color: var(--fill-color);\n",
              "      border-right-color: var(--fill-color);\n",
              "    }\n",
              "    40% {\n",
              "      border-color: transparent;\n",
              "      border-right-color: var(--fill-color);\n",
              "      border-top-color: var(--fill-color);\n",
              "    }\n",
              "    60% {\n",
              "      border-color: transparent;\n",
              "      border-right-color: var(--fill-color);\n",
              "    }\n",
              "    80% {\n",
              "      border-color: transparent;\n",
              "      border-right-color: var(--fill-color);\n",
              "      border-bottom-color: var(--fill-color);\n",
              "    }\n",
              "    90% {\n",
              "      border-color: transparent;\n",
              "      border-bottom-color: var(--fill-color);\n",
              "    }\n",
              "  }\n",
              "</style>\n",
              "\n",
              "  <script>\n",
              "    async function quickchart(key) {\n",
              "      const quickchartButtonEl =\n",
              "        document.querySelector('#' + key + ' button');\n",
              "      quickchartButtonEl.disabled = true;  // To prevent multiple clicks.\n",
              "      quickchartButtonEl.classList.add('colab-df-spinner');\n",
              "      try {\n",
              "        const charts = await google.colab.kernel.invokeFunction(\n",
              "            'suggestCharts', [key], {});\n",
              "      } catch (error) {\n",
              "        console.error('Error during call to suggestCharts:', error);\n",
              "      }\n",
              "      quickchartButtonEl.classList.remove('colab-df-spinner');\n",
              "      quickchartButtonEl.classList.add('colab-df-quickchart-complete');\n",
              "    }\n",
              "    (() => {\n",
              "      let quickchartButtonEl =\n",
              "        document.querySelector('#df-e5834753-9dd9-491f-8d93-4d4e0484db36 button');\n",
              "      quickchartButtonEl.style.display =\n",
              "        google.colab.kernel.accessAllowed ? 'block' : 'none';\n",
              "    })();\n",
              "  </script>\n",
              "</div>\n",
              "\n",
              "    </div>\n",
              "  </div>\n"
            ]
          },
          "metadata": {},
          "execution_count": 18
        }
      ]
    },
    {
      "cell_type": "code",
      "source": [
        "# for col in count_cols:\n",
        "#   sns.kdeplot(data=train_trans, x=col, hue='isFraud', common_norm=False)\n",
        "#   plt.show()"
      ],
      "metadata": {
        "id": "jNF9ey2Topct"
      },
      "execution_count": null,
      "outputs": []
    },
    {
      "cell_type": "code",
      "source": [
        "sns.kdeplot(data=train_trans, x='TransactionAmt', hue='isFraud', common_norm=False, log_scale=True)"
      ],
      "metadata": {
        "colab": {
          "base_uri": "https://localhost:8080/",
          "height": 472
        },
        "id": "JnWLAytlXUWc",
        "outputId": "a73f3657-234c-40b6-e793-87cac9b27d9a"
      },
      "execution_count": null,
      "outputs": [
        {
          "output_type": "execute_result",
          "data": {
            "text/plain": [
              "<Axes: xlabel='TransactionAmt', ylabel='Density'>"
            ]
          },
          "metadata": {},
          "execution_count": 20
        },
        {
          "output_type": "display_data",
          "data": {
            "text/plain": [
              "<Figure size 640x480 with 1 Axes>"
            ],
            "image/png": "[encoded data removed]"
          },
          "metadata": {}
        }
      ]
    },
    {
      "cell_type": "code",
      "source": [
        "sns.kdeplot(data=train_trans, x='dist1', hue='isFraud', common_norm=False)"
      ],
      "metadata": {
        "colab": {
          "base_uri": "https://localhost:8080/",
          "height": 467
        },
        "id": "uOtg31vemZs0",
        "outputId": "472cafe7-9e9b-42f6-99ab-02d5bdb76d95"
      },
      "execution_count": null,
      "outputs": [
        {
          "output_type": "execute_result",
          "data": {
            "text/plain": [
              "<Axes: xlabel='dist1', ylabel='Density'>"
            ]
          },
          "metadata": {},
          "execution_count": 21
        },
        {
          "output_type": "display_data",
          "data": {
            "text/plain": [
              "<Figure size 640x480 with 1 Axes>"
            ],
            "image/png": "[encoded data removed]"
          },
          "metadata": {}
        }
      ]
    },
    {
      "cell_type": "code",
      "source": [
        "sns.kdeplot(data=train_trans, x='dist2', hue='isFraud', common_norm=False)"
      ],
      "metadata": {
        "colab": {
          "base_uri": "https://localhost:8080/",
          "height": 467
        },
        "id": "xw_-J2nZmivW",
        "outputId": "887b1bcb-722d-4379-e142-75c9169eedb6"
      },
      "execution_count": null,
      "outputs": [
        {
          "output_type": "execute_result",
          "data": {
            "text/plain": [
              "<Axes: xlabel='dist2', ylabel='Density'>"
            ]
          },
          "metadata": {},
          "execution_count": 22
        },
        {
          "output_type": "display_data",
          "data": {
            "text/plain": [
              "<Figure size 640x480 with 1 Axes>"
            ],
            "image/png": "[encoded data removed]"
          },
          "metadata": {}
        }
      ]
    },
    {
      "cell_type": "markdown",
      "source": [
        "## Categorical variables"
      ],
      "metadata": {
        "id": "Y7Ac0aNP6rh7"
      }
    },
    {
      "cell_type": "code",
      "source": [
        "cat_columns = ['card1', 'card2', 'card3', 'card5', 'addr1', 'addr2'] + train_trans.select_dtypes('object').columns.tolist()\n",
        "cat_columns"
      ],
      "metadata": {
        "colab": {
          "base_uri": "https://localhost:8080/"
        },
        "id": "jW8OJhRDqdN1",
        "outputId": "7d9c456d-d453-4b4a-fcdc-60228daea358"
      },
      "execution_count": null,
      "outputs": [
        {
          "output_type": "execute_result",
          "data": {
            "text/plain": [
              "['card1',\n",
              " 'card2',\n",
              " 'card3',\n",
              " 'card5',\n",
              " 'addr1',\n",
              " 'addr2',\n",
              " 'ProductCD',\n",
              " 'card4',\n",
              " 'card6',\n",
              " 'P_emaildomain',\n",
              " 'R_emaildomain',\n",
              " 'M1',\n",
              " 'M2',\n",
              " 'M3',\n",
              " 'M4',\n",
              " 'M5',\n",
              " 'M6',\n",
              " 'M7',\n",
              " 'M8',\n",
              " 'M9']"
            ]
          },
          "metadata": {},
          "execution_count": 23
        }
      ]
    },
    {
      "cell_type": "code",
      "source": [
        "train_trans[cat_columns] = train_trans[cat_columns].astype(object)\n",
        "test_trans[cat_columns] = test_trans[cat_columns].astype(object)\n",
        "\n",
        "for col in cat_columns:\n",
        "  # other\n",
        "  vals_counts = train_trans.card3.value_counts()\n",
        "  other_categories = vals_counts[vals_counts.values>30].index\n",
        "  train_trans[col] = train_trans[col].astype(str)\n",
        "  train_trans.loc[train_trans[col].isin(other_categories), col] = 'other'\n",
        "\n",
        "  # create labels\n",
        "  le = LabelEncoder()\n",
        "  le.fit(list(train_trans[col].astype(str).values) + list(test_trans[col].astype(str).values))\n",
        "  train_trans[col] = le.transform(list(train_trans[col].astype(str).values))\n",
        "  test_trans[col] = le.transform(list(test_trans[col].astype(str).values))\n",
        "\n"
      ],
      "metadata": {
        "id": "9D2ll_XJKeUX"
      },
      "execution_count": null,
      "outputs": []
    },
    {
      "cell_type": "code",
      "source": [
        "train_trans[cat_columns].info()"
      ],
      "metadata": {
        "colab": {
          "base_uri": "https://localhost:8080/"
        },
        "id": "qRh6GtQeCpw9",
        "outputId": "eab14609-664f-46a5-fa97-468e71d6de9f"
      },
      "execution_count": null,
      "outputs": [
        {
          "output_type": "stream",
          "name": "stdout",
          "text": [
            "<class 'pandas.core.frame.DataFrame'>\n",
            "RangeIndex: 590540 entries, 0 to 590539\n",
            "Data columns (total 20 columns):\n",
            " #   Column         Non-Null Count   Dtype\n",
            "---  ------         --------------   -----\n",
            " 0   card1          590540 non-null  int64\n",
            " 1   card2          590540 non-null  int64\n",
            " 2   card3          590540 non-null  int64\n",
            " 3   card5          590540 non-null  int64\n",
            " 4   addr1          590540 non-null  int64\n",
            " 5   addr2          590540 non-null  int64\n",
            " 6   ProductCD      590540 non-null  int64\n",
            " 7   card4          590540 non-null  int64\n",
            " 8   card6          590540 non-null  int64\n",
            " 9   P_emaildomain  590540 non-null  int64\n",
            " 10  R_emaildomain  590540 non-null  int64\n",
            " 11  M1             590540 non-null  int64\n",
            " 12  M2             590540 non-null  int64\n",
            " 13  M3             590540 non-null  int64\n",
            " 14  M4             590540 non-null  int64\n",
            " 15  M5             590540 non-null  int64\n",
            " 16  M6             590540 non-null  int64\n",
            " 17  M7             590540 non-null  int64\n",
            " 18  M8             590540 non-null  int64\n",
            " 19  M9             590540 non-null  int64\n",
            "dtypes: int64(20)\n",
            "memory usage: 90.1 MB\n"
          ]
        }
      ]
    },
    {
      "cell_type": "markdown",
      "source": [
        "## Transform Continuous variables"
      ],
      "metadata": {
        "id": "u56At6P1o2rr"
      }
    },
    {
      "cell_type": "code",
      "source": [
        "cont_columns = pd.Series(train_trans.select_dtypes('float').columns.tolist())\n",
        "cont_columns = cont_columns[~cont_columns.str.contains('V[0-9]')]\n",
        "cont_columns = cont_columns[~cont_columns.isin(cat_columns)]\n",
        "cont_columns"
      ],
      "metadata": {
        "colab": {
          "base_uri": "https://localhost:8080/"
        },
        "id": "Eo77a0C_qfRq",
        "outputId": "489b1950-886f-4d2e-9b0f-01b27f414ecc"
      },
      "execution_count": null,
      "outputs": [
        {
          "output_type": "execute_result",
          "data": {
            "text/plain": [
              "0     TransactionAmt\n",
              "1              dist1\n",
              "2              dist2\n",
              "3                 C1\n",
              "4                 C2\n",
              "5                 C3\n",
              "6                 C4\n",
              "7                 C5\n",
              "8                 C6\n",
              "9                 C7\n",
              "10                C8\n",
              "11                C9\n",
              "12               C10\n",
              "13               C11\n",
              "14               C12\n",
              "15               C13\n",
              "16               C14\n",
              "17                D1\n",
              "18                D2\n",
              "19                D3\n",
              "20                D4\n",
              "21                D5\n",
              "22                D6\n",
              "23                D7\n",
              "24                D8\n",
              "25                D9\n",
              "26               D10\n",
              "27               D11\n",
              "28               D12\n",
              "29               D13\n",
              "30               D14\n",
              "31               D15\n",
              "dtype: object"
            ]
          },
          "metadata": {},
          "execution_count": 25
        }
      ]
    },
    {
      "cell_type": "code",
      "source": [
        "## log trans\n",
        "log_vars = ['dist1', 'dist2', 'TransactionAmt']"
      ],
      "metadata": {
        "id": "SSEqpQGLo16A"
      },
      "execution_count": null,
      "outputs": []
    },
    {
      "cell_type": "code",
      "source": [
        "for col in log_vars:\n",
        "  train_trans['log_' + col] = np.log(train_trans[col] + .001)\n",
        "  test_trans['log_' + col] = np.log(test_trans[col] + .001)"
      ],
      "metadata": {
        "id": "9vKJND5NpE0l"
      },
      "execution_count": null,
      "outputs": []
    },
    {
      "cell_type": "markdown",
      "source": [
        "## Prepare dating for modelling\n",
        "\n",
        "### Missing values:\n",
        "- [airbnb knn imputation method](https://medium.com/airbnb-engineering/overcoming-missing-values-in-a-random-forest-classifier-7b1fc1fc03ba)\n",
        "- XGBoost learns which way to split missing data at each node, though sometimes we can beath this method by considering all the data when imputing"
      ],
      "metadata": {
        "id": "8eO8lQvyoyPc"
      }
    },
    {
      "cell_type": "code",
      "source": [
        "all_cols = cont_columns.tolist() + cat_columns\n",
        "[all_cols.remove(x) for x in log_vars]"
      ],
      "metadata": {
        "colab": {
          "base_uri": "https://localhost:8080/"
        },
        "id": "7x3omKBDod03",
        "outputId": "e245f2f5-34ae-43b3-832f-6dbfb8448c49"
      },
      "execution_count": null,
      "outputs": [
        {
          "output_type": "execute_result",
          "data": {
            "text/plain": [
              "[None, None, None]"
            ]
          },
          "metadata": {},
          "execution_count": 28
        }
      ]
    },
    {
      "cell_type": "code",
      "source": [
        "all_cols = all_cols + ['log_' + x for x in log_vars]"
      ],
      "metadata": {
        "id": "q7AAsEAzsIex"
      },
      "execution_count": null,
      "outputs": []
    },
    {
      "cell_type": "code",
      "source": [
        "all_cols"
      ],
      "metadata": {
        "colab": {
          "base_uri": "https://localhost:8080/"
        },
        "id": "lLsQ19lcmeya",
        "outputId": "9e2276db-b6cf-4367-a29c-ea04555e6c2f"
      },
      "execution_count": null,
      "outputs": [
        {
          "output_type": "execute_result",
          "data": {
            "text/plain": [
              "['C1',\n",
              " 'C2',\n",
              " 'C3',\n",
              " 'C4',\n",
              " 'C5',\n",
              " 'C6',\n",
              " 'C7',\n",
              " 'C8',\n",
              " 'C9',\n",
              " 'C10',\n",
              " 'C11',\n",
              " 'C12',\n",
              " 'C13',\n",
              " 'C14',\n",
              " 'D1',\n",
              " 'D2',\n",
              " 'D3',\n",
              " 'D4',\n",
              " 'D5',\n",
              " 'D6',\n",
              " 'D7',\n",
              " 'D8',\n",
              " 'D9',\n",
              " 'D10',\n",
              " 'D11',\n",
              " 'D12',\n",
              " 'D13',\n",
              " 'D14',\n",
              " 'D15',\n",
              " 'card1',\n",
              " 'card2',\n",
              " 'card3',\n",
              " 'card5',\n",
              " 'addr1',\n",
              " 'addr2',\n",
              " 'ProductCD',\n",
              " 'card4',\n",
              " 'card6',\n",
              " 'P_emaildomain',\n",
              " 'R_emaildomain',\n",
              " 'M1',\n",
              " 'M2',\n",
              " 'M3',\n",
              " 'M4',\n",
              " 'M5',\n",
              " 'M6',\n",
              " 'M7',\n",
              " 'M8',\n",
              " 'M9',\n",
              " 'log_dist1',\n",
              " 'log_dist2',\n",
              " 'log_TransactionAmt']"
            ]
          },
          "metadata": {},
          "execution_count": 30
        }
      ]
    },
    {
      "cell_type": "code",
      "source": [
        "# outlier detection\n",
        "train_trans[all_cols].agg(['max', 'min']).T"
      ],
      "metadata": {
        "colab": {
          "base_uri": "https://localhost:8080/",
          "height": 1000
        },
        "id": "pSOw-0mxxArd",
        "outputId": "a0a1db45-9359-424f-97d7-11e6f395896a"
      },
      "execution_count": null,
      "outputs": [
        {
          "output_type": "execute_result",
          "data": {
            "text/plain": [
              "                             max         min\n",
              "C1                   4685.000000    0.000000\n",
              "C2                   5691.000000    0.000000\n",
              "C3                     26.000000    0.000000\n",
              "C4                   2253.000000    0.000000\n",
              "C5                    349.000000    0.000000\n",
              "C6                   2253.000000    0.000000\n",
              "C7                   2255.000000    0.000000\n",
              "C8                   3331.000000    0.000000\n",
              "C9                    210.000000    0.000000\n",
              "C10                  3257.000000    0.000000\n",
              "C11                  3188.000000    0.000000\n",
              "C12                  3188.000000    0.000000\n",
              "C13                  2918.000000    0.000000\n",
              "C14                  1429.000000    0.000000\n",
              "D1                    640.000000    0.000000\n",
              "D2                    640.000000    0.000000\n",
              "D3                    819.000000    0.000000\n",
              "D4                    869.000000 -122.000000\n",
              "D5                    819.000000    0.000000\n",
              "D6                    873.000000  -83.000000\n",
              "D7                    843.000000    0.000000\n",
              "D8                   1707.791626    0.000000\n",
              "D9                      0.958333    0.000000\n",
              "D10                   876.000000    0.000000\n",
              "D11                   670.000000  -53.000000\n",
              "D12                   648.000000  -83.000000\n",
              "D13                   847.000000    0.000000\n",
              "D14                   878.000000 -193.000000\n",
              "D15                   879.000000  -83.000000\n",
              "card1               17090.000000    0.000000\n",
              "card2                 501.000000    0.000000\n",
              "card3                 133.000000    0.000000\n",
              "card5                 138.000000    0.000000\n",
              "addr1                 441.000000    0.000000\n",
              "addr2                  93.000000    0.000000\n",
              "ProductCD               4.000000    0.000000\n",
              "card4                   4.000000    0.000000\n",
              "card6                   4.000000    0.000000\n",
              "P_emaildomain          60.000000    0.000000\n",
              "R_emaildomain          60.000000    0.000000\n",
              "M1                      2.000000    0.000000\n",
              "M2                      2.000000    0.000000\n",
              "M3                      2.000000    0.000000\n",
              "M4                      3.000000    0.000000\n",
              "M5                      2.000000    0.000000\n",
              "M6                      2.000000    0.000000\n",
              "M7                      2.000000    0.000000\n",
              "M8                      2.000000    0.000000\n",
              "M9                      2.000000    0.000000\n",
              "log_dist1               9.238539   -6.907755\n",
              "log_dist2               9.360741   -6.907755\n",
              "log_TransactionAmt     10.371533   -1.378326"
            ],
            "text/html": [
              "\n",
              "  <div id=\"df-a0f6c12c-a43b-41f1-b165-c52c148b1700\" class=\"colab-df-container\">\n",
              "    <div>\n",
              "<style scoped>\n",
              "    .dataframe tbody tr th:only-of-type {\n",
              "        vertical-align: middle;\n",
              "    }\n",
              "\n",
              "    .dataframe tbody tr th {\n",
              "        vertical-align: top;\n",
              "    }\n",
              "\n",
              "    .dataframe thead th {\n",
              "        text-align: right;\n",
              "    }\n",
              "</style>\n",
              "<table border=\"1\" class=\"dataframe\">\n",
              "  <thead>\n",
              "    <tr style=\"text-align: right;\">\n",
              "      <th></th>\n",
              "      <th>max</th>\n",
              "      <th>min</th>\n",
              "    </tr>\n",
              "  </thead>\n",
              "  <tbody>\n",
              "    <tr>\n",
              "      <th>C1</th>\n",
              "      <td>4685.000000</td>\n",
              "      <td>0.000000</td>\n",
              "    </tr>\n",
              "    <tr>\n",
              "      <th>C2</th>\n",
              "      <td>5691.000000</td>\n",
              "      <td>0.000000</td>\n",
              "    </tr>\n",
              "    <tr>\n",
              "      <th>C3</th>\n",
              "      <td>26.000000</td>\n",
              "      <td>0.000000</td>\n",
              "    </tr>\n",
              "    <tr>\n",
              "      <th>C4</th>\n",
              "      <td>2253.000000</td>\n",
              "      <td>0.000000</td>\n",
              "    </tr>\n",
              "    <tr>\n",
              "      <th>C5</th>\n",
              "      <td>349.000000</td>\n",
              "      <td>0.000000</td>\n",
              "    </tr>\n",
              "    <tr>\n",
              "      <th>C6</th>\n",
              "      <td>2253.000000</td>\n",
              "      <td>0.000000</td>\n",
              "    </tr>\n",
              "    <tr>\n",
              "      <th>C7</th>\n",
              "      <td>2255.000000</td>\n",
              "      <td>0.000000</td>\n",
              "    </tr>\n",
              "    <tr>\n",
              "      <th>C8</th>\n",
              "      <td>3331.000000</td>\n",
              "      <td>0.000000</td>\n",
              "    </tr>\n",
              "    <tr>\n",
              "      <th>C9</th>\n",
              "      <td>210.000000</td>\n",
              "      <td>0.000000</td>\n",
              "    </tr>\n",
              "    <tr>\n",
              "      <th>C10</th>\n",
              "      <td>3257.000000</td>\n",
              "      <td>0.000000</td>\n",
              "    </tr>\n",
              "    <tr>\n",
              "      <th>C11</th>\n",
              "      <td>3188.000000</td>\n",
              "      <td>0.000000</td>\n",
              "    </tr>\n",
              "    <tr>\n",
              "      <th>C12</th>\n",
              "      <td>3188.000000</td>\n",
              "      <td>0.000000</td>\n",
              "    </tr>\n",
              "    <tr>\n",
              "      <th>C13</th>\n",
              "      <td>2918.000000</td>\n",
              "      <td>0.000000</td>\n",
              "    </tr>\n",
              "    <tr>\n",
              "      <th>C14</th>\n",
              "      <td>1429.000000</td>\n",
              "      <td>0.000000</td>\n",
              "    </tr>\n",
              "    <tr>\n",
              "      <th>D1</th>\n",
              "      <td>640.000000</td>\n",
              "      <td>0.000000</td>\n",
              "    </tr>\n",
              "    <tr>\n",
              "      <th>D2</th>\n",
              "      <td>640.000000</td>\n",
              "      <td>0.000000</td>\n",
              "    </tr>\n",
              "    <tr>\n",
              "      <th>D3</th>\n",
              "      <td>819.000000</td>\n",
              "      <td>0.000000</td>\n",
              "    </tr>\n",
              "    <tr>\n",
              "      <th>D4</th>\n",
              "      <td>869.000000</td>\n",
              "      <td>-122.000000</td>\n",
              "    </tr>\n",
              "    <tr>\n",
              "      <th>D5</th>\n",
              "      <td>819.000000</td>\n",
              "      <td>0.000000</td>\n",
              "    </tr>\n",
              "    <tr>\n",
              "      <th>D6</th>\n",
              "      <td>873.000000</td>\n",
              "      <td>-83.000000</td>\n",
              "    </tr>\n",
              "    <tr>\n",
              "      <th>D7</th>\n",
              "      <td>843.000000</td>\n",
              "      <td>0.000000</td>\n",
              "    </tr>\n",
              "    <tr>\n",
              "      <th>D8</th>\n",
              "      <td>1707.791626</td>\n",
              "      <td>0.000000</td>\n",
              "    </tr>\n",
              "    <tr>\n",
              "      <th>D9</th>\n",
              "      <td>0.958333</td>\n",
              "      <td>0.000000</td>\n",
              "    </tr>\n",
              "    <tr>\n",
              "      <th>D10</th>\n",
              "      <td>876.000000</td>\n",
              "      <td>0.000000</td>\n",
              "    </tr>\n",
              "    <tr>\n",
              "      <th>D11</th>\n",
              "      <td>670.000000</td>\n",
              "      <td>-53.000000</td>\n",
              "    </tr>\n",
              "    <tr>\n",
              "      <th>D12</th>\n",
              "      <td>648.000000</td>\n",
              "      <td>-83.000000</td>\n",
              "    </tr>\n",
              "    <tr>\n",
              "      <th>D13</th>\n",
              "      <td>847.000000</td>\n",
              "      <td>0.000000</td>\n",
              "    </tr>\n",
              "    <tr>\n",
              "      <th>D14</th>\n",
              "      <td>878.000000</td>\n",
              "      <td>-193.000000</td>\n",
              "    </tr>\n",
              "    <tr>\n",
              "      <th>D15</th>\n",
              "      <td>879.000000</td>\n",
              "      <td>-83.000000</td>\n",
              "    </tr>\n",
              "    <tr>\n",
              "      <th>card1</th>\n",
              "      <td>17090.000000</td>\n",
              "      <td>0.000000</td>\n",
              "    </tr>\n",
              "    <tr>\n",
              "      <th>card2</th>\n",
              "      <td>501.000000</td>\n",
              "      <td>0.000000</td>\n",
              "    </tr>\n",
              "    <tr>\n",
              "      <th>card3</th>\n",
              "      <td>133.000000</td>\n",
              "      <td>0.000000</td>\n",
              "    </tr>\n",
              "    <tr>\n",
              "      <th>card5</th>\n",
              "      <td>138.000000</td>\n",
              "      <td>0.000000</td>\n",
              "    </tr>\n",
              "    <tr>\n",
              "      <th>addr1</th>\n",
              "      <td>441.000000</td>\n",
              "      <td>0.000000</td>\n",
              "    </tr>\n",
              "    <tr>\n",
              "      <th>addr2</th>\n",
              "      <td>93.000000</td>\n",
              "      <td>0.000000</td>\n",
              "    </tr>\n",
              "    <tr>\n",
              "      <th>ProductCD</th>\n",
              "      <td>4.000000</td>\n",
              "      <td>0.000000</td>\n",
              "    </tr>\n",
              "    <tr>\n",
              "      <th>card4</th>\n",
              "      <td>4.000000</td>\n",
              "      <td>0.000000</td>\n",
              "    </tr>\n",
              "    <tr>\n",
              "      <th>card6</th>\n",
              "      <td>4.000000</td>\n",
              "      <td>0.000000</td>\n",
              "    </tr>\n",
              "    <tr>\n",
              "      <th>P_emaildomain</th>\n",
              "      <td>60.000000</td>\n",
              "      <td>0.000000</td>\n",
              "    </tr>\n",
              "    <tr>\n",
              "      <th>R_emaildomain</th>\n",
              "      <td>60.000000</td>\n",
              "      <td>0.000000</td>\n",
              "    </tr>\n",
              "    <tr>\n",
              "      <th>M1</th>\n",
              "      <td>2.000000</td>\n",
              "      <td>0.000000</td>\n",
              "    </tr>\n",
              "    <tr>\n",
              "      <th>M2</th>\n",
              "      <td>2.000000</td>\n",
              "      <td>0.000000</td>\n",
              "    </tr>\n",
              "    <tr>\n",
              "      <th>M3</th>\n",
              "      <td>2.000000</td>\n",
              "      <td>0.000000</td>\n",
              "    </tr>\n",
              "    <tr>\n",
              "      <th>M4</th>\n",
              "      <td>3.000000</td>\n",
              "      <td>0.000000</td>\n",
              "    </tr>\n",
              "    <tr>\n",
              "      <th>M5</th>\n",
              "      <td>2.000000</td>\n",
              "      <td>0.000000</td>\n",
              "    </tr>\n",
              "    <tr>\n",
              "      <th>M6</th>\n",
              "      <td>2.000000</td>\n",
              "      <td>0.000000</td>\n",
              "    </tr>\n",
              "    <tr>\n",
              "      <th>M7</th>\n",
              "      <td>2.000000</td>\n",
              "      <td>0.000000</td>\n",
              "    </tr>\n",
              "    <tr>\n",
              "      <th>M8</th>\n",
              "      <td>2.000000</td>\n",
              "      <td>0.000000</td>\n",
              "    </tr>\n",
              "    <tr>\n",
              "      <th>M9</th>\n",
              "      <td>2.000000</td>\n",
              "      <td>0.000000</td>\n",
              "    </tr>\n",
              "    <tr>\n",
              "      <th>log_dist1</th>\n",
              "      <td>9.238539</td>\n",
              "      <td>-6.907755</td>\n",
              "    </tr>\n",
              "    <tr>\n",
              "      <th>log_dist2</th>\n",
              "      <td>9.360741</td>\n",
              "      <td>-6.907755</td>\n",
              "    </tr>\n",
              "    <tr>\n",
              "      <th>log_TransactionAmt</th>\n",
              "      <td>10.371533</td>\n",
              "      <td>-1.378326</td>\n",
              "    </tr>\n",
              "  </tbody>\n",
              "</table>\n",
              "</div>\n",
              "    <div class=\"colab-df-buttons\">\n",
              "\n",
              "  <div class=\"colab-df-container\">\n",
              "    <button class=\"colab-df-convert\" onclick=\"convertToInteractive('df-a0f6c12c-a43b-41f1-b165-c52c148b1700')\"\n",
              "            title=\"Convert this dataframe to an interactive table.\"\n",
              "            style=\"display:none;\">\n",
              "\n",
              "  <svg xmlns=\"http://www.w3.org/2000/svg\" height=\"24px\" viewBox=\"0 -960 960 960\">\n",
              "    <path d=\"M120-120v-720h720v720H120Zm60-500h600v-160H180v160Zm220 220h160v-160H400v160Zm0 220h160v-160H400v160ZM180-400h160v-160H180v160Zm440 0h160v-160H620v160ZM180-180h160v-160H180v160Zm440 0h160v-160H620v160Z\"/>\n",
              "  </svg>\n",
              "    </button>\n",
              "\n",
              "  <style>\n",
              "    .colab-df-container {\n",
              "      display:flex;\n",
              "      gap: 12px;\n",
              "    }\n",
              "\n",
              "    .colab-df-convert {\n",
              "      background-color: #E8F0FE;\n",
              "      border: none;\n",
              "      border-radius: 50%;\n",
              "      cursor: pointer;\n",
              "      display: none;\n",
              "      fill: #1967D2;\n",
              "      height: 32px;\n",
              "      padding: 0 0 0 0;\n",
              "      width: 32px;\n",
              "    }\n",
              "\n",
              "    .colab-df-convert:hover {\n",
              "      background-color: #E2EBFA;\n",
              "      box-shadow: 0px 1px 2px rgba(60, 64, 67, 0.3), 0px 1px 3px 1px rgba(60, 64, 67, 0.15);\n",
              "      fill: #174EA6;\n",
              "    }\n",
              "\n",
              "    .colab-df-buttons div {\n",
              "      margin-bottom: 4px;\n",
              "    }\n",
              "\n",
              "    [theme=dark] .colab-df-convert {\n",
              "      background-color: #3B4455;\n",
              "      fill: #D2E3FC;\n",
              "    }\n",
              "\n",
              "    [theme=dark] .colab-df-convert:hover {\n",
              "      background-color: #434B5C;\n",
              "      box-shadow: 0px 1px 3px 1px rgba(0, 0, 0, 0.15);\n",
              "      filter: drop-shadow(0px 1px 2px rgba(0, 0, 0, 0.3));\n",
              "      fill: #FFFFFF;\n",
              "    }\n",
              "  </style>\n",
              "\n",
              "    <script>\n",
              "      const buttonEl =\n",
              "        document.querySelector('#df-a0f6c12c-a43b-41f1-b165-c52c148b1700 button.colab-df-convert');\n",
              "      buttonEl.style.display =\n",
              "        google.colab.kernel.accessAllowed ? 'block' : 'none';\n",
              "\n",
              "      async function convertToInteractive(key) {\n",
              "        const element = document.querySelector('#df-a0f6c12c-a43b-41f1-b165-c52c148b1700');\n",
              "        const dataTable =\n",
              "          await google.colab.kernel.invokeFunction('convertToInteractive',\n",
              "                                                    [key], {});\n",
              "        if (!dataTable) return;\n",
              "\n",
              "        const docLinkHtml = 'Like what you see? Visit the ' +\n",
              "          '<a target=\"_blank\" href=https://colab.research.google.com/notebooks/data_table.ipynb>data table notebook</a>'\n",
              "          + ' to learn more about interactive tables.';\n",
              "        element.innerHTML = '';\n",
              "        dataTable['output_type'] = 'display_data';\n",
              "        await google.colab.output.renderOutput(dataTable, element);\n",
              "        const docLink = document.createElement('div');\n",
              "        docLink.innerHTML = docLinkHtml;\n",
              "        element.appendChild(docLink);\n",
              "      }\n",
              "    </script>\n",
              "  </div>\n",
              "\n",
              "\n",
              "<div id=\"df-86485560-30e2-456e-9f75-8d73feef4d6b\">\n",
              "  <button class=\"colab-df-quickchart\" onclick=\"quickchart('df-86485560-30e2-456e-9f75-8d73feef4d6b')\"\n",
              "            title=\"Suggest charts.\"\n",
              "            style=\"display:none;\">\n",
              "\n",
              "<svg xmlns=\"http://www.w3.org/2000/svg\" height=\"24px\"viewBox=\"0 0 24 24\"\n",
              "     width=\"24px\">\n",
              "    <g>\n",
              "        <path d=\"M19 3H5c-1.1 0-2 .9-2 2v14c0 1.1.9 2 2 2h14c1.1 0 2-.9 2-2V5c0-1.1-.9-2-2-2zM9 17H7v-7h2v7zm4 0h-2V7h2v10zm4 0h-2v-4h2v4z\"/>\n",
              "    </g>\n",
              "</svg>\n",
              "  </button>\n",
              "\n",
              "<style>\n",
              "  .colab-df-quickchart {\n",
              "      --bg-color: #E8F0FE;\n",
              "      --fill-color: #1967D2;\n",
              "      --hover-bg-color: #E2EBFA;\n",
              "      --hover-fill-color: #174EA6;\n",
              "      --disabled-fill-color: #AAA;\n",
              "      --disabled-bg-color: #DDD;\n",
              "  }\n",
              "\n",
              "  [theme=dark] .colab-df-quickchart {\n",
              "      --bg-color: #3B4455;\n",
              "      --fill-color: #D2E3FC;\n",
              "      --hover-bg-color: #434B5C;\n",
              "      --hover-fill-color: #FFFFFF;\n",
              "      --disabled-bg-color: #3B4455;\n",
              "      --disabled-fill-color: #666;\n",
              "  }\n",
              "\n",
              "  .colab-df-quickchart {\n",
              "    background-color: var(--bg-color);\n",
              "    border: none;\n",
              "    border-radius: 50%;\n",
              "    cursor: pointer;\n",
              "    display: none;\n",
              "    fill: var(--fill-color);\n",
              "    height: 32px;\n",
              "    padding: 0;\n",
              "    width: 32px;\n",
              "  }\n",
              "\n",
              "  .colab-df-quickchart:hover {\n",
              "    background-color: var(--hover-bg-color);\n",
              "    box-shadow: 0 1px 2px rgba(60, 64, 67, 0.3), 0 1px 3px 1px rgba(60, 64, 67, 0.15);\n",
              "    fill: var(--button-hover-fill-color);\n",
              "  }\n",
              "\n",
              "  .colab-df-quickchart-complete:disabled,\n",
              "  .colab-df-quickchart-complete:disabled:hover {\n",
              "    background-color: var(--disabled-bg-color);\n",
              "    fill: var(--disabled-fill-color);\n",
              "    box-shadow: none;\n",
              "  }\n",
              "\n",
              "  .colab-df-spinner {\n",
              "    border: 2px solid var(--fill-color);\n",
              "    border-color: transparent;\n",
              "    border-bottom-color: var(--fill-color);\n",
              "    animation:\n",
              "      spin 1s steps(1) infinite;\n",
              "  }\n",
              "\n",
              "  @keyframes spin {\n",
              "    0% {\n",
              "      border-color: transparent;\n",
              "      border-bottom-color: var(--fill-color);\n",
              "      border-left-color: var(--fill-color);\n",
              "    }\n",
              "    20% {\n",
              "      border-color: transparent;\n",
              "      border-left-color: var(--fill-color);\n",
              "      border-top-color: var(--fill-color);\n",
              "    }\n",
              "    30% {\n",
              "      border-color: transparent;\n",
              "      border-left-color: var(--fill-color);\n",
              "      border-top-color: var(--fill-color);\n",
              "      border-right-color: var(--fill-color);\n",
              "    }\n",
              "    40% {\n",
              "      border-color: transparent;\n",
              "      border-right-color: var(--fill-color);\n",
              "      border-top-color: var(--fill-color);\n",
              "    }\n",
              "    60% {\n",
              "      border-color: transparent;\n",
              "      border-right-color: var(--fill-color);\n",
              "    }\n",
              "    80% {\n",
              "      border-color: transparent;\n",
              "      border-right-color: var(--fill-color);\n",
              "      border-bottom-color: var(--fill-color);\n",
              "    }\n",
              "    90% {\n",
              "      border-color: transparent;\n",
              "      border-bottom-color: var(--fill-color);\n",
              "    }\n",
              "  }\n",
              "</style>\n",
              "\n",
              "  <script>\n",
              "    async function quickchart(key) {\n",
              "      const quickchartButtonEl =\n",
              "        document.querySelector('#' + key + ' button');\n",
              "      quickchartButtonEl.disabled = true;  // To prevent multiple clicks.\n",
              "      quickchartButtonEl.classList.add('colab-df-spinner');\n",
              "      try {\n",
              "        const charts = await google.colab.kernel.invokeFunction(\n",
              "            'suggestCharts', [key], {});\n",
              "      } catch (error) {\n",
              "        console.error('Error during call to suggestCharts:', error);\n",
              "      }\n",
              "      quickchartButtonEl.classList.remove('colab-df-spinner');\n",
              "      quickchartButtonEl.classList.add('colab-df-quickchart-complete');\n",
              "    }\n",
              "    (() => {\n",
              "      let quickchartButtonEl =\n",
              "        document.querySelector('#df-86485560-30e2-456e-9f75-8d73feef4d6b button');\n",
              "      quickchartButtonEl.style.display =\n",
              "        google.colab.kernel.accessAllowed ? 'block' : 'none';\n",
              "    })();\n",
              "  </script>\n",
              "</div>\n",
              "\n",
              "    </div>\n",
              "  </div>\n"
            ]
          },
          "metadata": {},
          "execution_count": 31
        }
      ]
    },
    {
      "cell_type": "code",
      "source": [],
      "metadata": {
        "id": "_xSt4gFd5Nd8"
      },
      "execution_count": null,
      "outputs": []
    },
    {
      "cell_type": "markdown",
      "source": [
        "## LightGBM"
      ],
      "metadata": {
        "id": "5NlMEpUz5OMl"
      }
    },
    {
      "cell_type": "code",
      "source": [
        "from sklearn.model_selection import KFold\n",
        "import lightgbm as lgb\n",
        "from sklearn.metrics import roc_auc_score"
      ],
      "metadata": {
        "id": "nJgKoGha5Nhk"
      },
      "execution_count": null,
      "outputs": []
    },
    {
      "cell_type": "code",
      "source": [
        "num_features = train_trans[cat_columns].nunique().sum() + len(cont_columns)"
      ],
      "metadata": {
        "id": "iioytVrJpLKb"
      },
      "execution_count": null,
      "outputs": []
    },
    {
      "cell_type": "code",
      "source": [
        "start_params = {'num_leaves': int(np.sqrt(num_features)), # sqrt(features)\n",
        "          'min_child_weight': 0.001,\n",
        "          'feature_fraction': .5,\n",
        "          'min_data_in_leaf': 50,\n",
        "          'objective': 'binary',\n",
        "          'max_depth': 6, # usually 3-10\n",
        "          'learning_rate': 0.01, # usually .01-.02\n",
        "          \"bagging_seed\": 123,\n",
        "          \"metric\": 'auc',\n",
        "          'reg_alpha': 0,\n",
        "          'reg_lambda': 0,\n",
        "          'random_state': 123,\n",
        "         }\n",
        "\n",
        "start_params = {\n",
        "         }"
      ],
      "metadata": {
        "id": "T-sh2y-Enuw4"
      },
      "execution_count": null,
      "outputs": []
    },
    {
      "cell_type": "code",
      "source": [
        "dtrain.num_feature()"
      ],
      "metadata": {
        "colab": {
          "base_uri": "https://localhost:8080/"
        },
        "id": "VXuDpwSerANk",
        "outputId": "f3731a9e-14be-439c-f5aa-2175bdd3474a"
      },
      "execution_count": null,
      "outputs": [
        {
          "output_type": "execute_result",
          "data": {
            "text/plain": [
              "52"
            ]
          },
          "metadata": {},
          "execution_count": 47
        }
      ]
    },
    {
      "cell_type": "code",
      "source": [
        "train_trans[all_cols].info()"
      ],
      "metadata": {
        "colab": {
          "base_uri": "https://localhost:8080/"
        },
        "id": "nPwXvR85Cjl6",
        "outputId": "e9dd3b76-d10c-440c-faef-26a037979177"
      },
      "execution_count": null,
      "outputs": [
        {
          "output_type": "stream",
          "name": "stdout",
          "text": [
            "<class 'pandas.core.frame.DataFrame'>\n",
            "RangeIndex: 590540 entries, 0 to 590539\n",
            "Data columns (total 52 columns):\n",
            " #   Column              Non-Null Count   Dtype  \n",
            "---  ------              --------------   -----  \n",
            " 0   C1                  590540 non-null  float64\n",
            " 1   C2                  590540 non-null  float64\n",
            " 2   C3                  590540 non-null  float64\n",
            " 3   C4                  590540 non-null  float64\n",
            " 4   C5                  590540 non-null  float64\n",
            " 5   C6                  590540 non-null  float64\n",
            " 6   C7                  590540 non-null  float64\n",
            " 7   C8                  590540 non-null  float64\n",
            " 8   C9                  590540 non-null  float64\n",
            " 9   C10                 590540 non-null  float64\n",
            " 10  C11                 590540 non-null  float64\n",
            " 11  C12                 590540 non-null  float64\n",
            " 12  C13                 590540 non-null  float64\n",
            " 13  C14                 590540 non-null  float64\n",
            " 14  D1                  589271 non-null  float64\n",
            " 15  D2                  309743 non-null  float64\n",
            " 16  D3                  327662 non-null  float64\n",
            " 17  D4                  421618 non-null  float64\n",
            " 18  D5                  280699 non-null  float64\n",
            " 19  D6                  73187 non-null   float64\n",
            " 20  D7                  38917 non-null   float64\n",
            " 21  D8                  74926 non-null   float64\n",
            " 22  D9                  74926 non-null   float64\n",
            " 23  D10                 514518 non-null  float64\n",
            " 24  D11                 311253 non-null  float64\n",
            " 25  D12                 64717 non-null   float64\n",
            " 26  D13                 61952 non-null   float64\n",
            " 27  D14                 62187 non-null   float64\n",
            " 28  D15                 501427 non-null  float64\n",
            " 29  card1               590540 non-null  int64  \n",
            " 30  card2               590540 non-null  int64  \n",
            " 31  card3               590540 non-null  int64  \n",
            " 32  card5               590540 non-null  int64  \n",
            " 33  addr1               590540 non-null  int64  \n",
            " 34  addr2               590540 non-null  int64  \n",
            " 35  ProductCD           590540 non-null  int64  \n",
            " 36  card4               590540 non-null  int64  \n",
            " 37  card6               590540 non-null  int64  \n",
            " 38  P_emaildomain       590540 non-null  int64  \n",
            " 39  R_emaildomain       590540 non-null  int64  \n",
            " 40  M1                  590540 non-null  int64  \n",
            " 41  M2                  590540 non-null  int64  \n",
            " 42  M3                  590540 non-null  int64  \n",
            " 43  M4                  590540 non-null  int64  \n",
            " 44  M5                  590540 non-null  int64  \n",
            " 45  M6                  590540 non-null  int64  \n",
            " 46  M7                  590540 non-null  int64  \n",
            " 47  M8                  590540 non-null  int64  \n",
            " 48  M9                  590540 non-null  int64  \n",
            " 49  log_dist1           238269 non-null  float64\n",
            " 50  log_dist2           37627 non-null   float64\n",
            " 51  log_TransactionAmt  590540 non-null  float64\n",
            "dtypes: float64(32), int64(20)\n",
            "memory usage: 234.3 MB\n"
          ]
        }
      ]
    },
    {
      "cell_type": "code",
      "source": [
        "nfolds = 5\n",
        "folds = KFold(n_splits=nfolds) # lets do time based split\n",
        "\n",
        "X = train_trans[all_cols]\n",
        "y = train_trans['isFraud']\n",
        "\n",
        "splits = folds.split(X, y)\n",
        "cols = all_cols\n",
        "y_oof = np.zeros(X.shape[0])\n",
        "\n",
        "score = 0\n",
        "\n",
        "for fold_n, (train_index, valid_index) in enumerate(splits):\n",
        "    X_train, X_valid = X[cols].iloc[train_index], X[cols].iloc[valid_index]\n",
        "    y_train, y_valid = y.iloc[train_index], y.iloc[valid_index]\n",
        "\n",
        "    dtrain = lgb.Dataset(X_train, label=y_train)\n",
        "    dvalid = lgb.Dataset(X_valid, label=y_valid)\n",
        "\n",
        "    trainer = lgb.train(start_params, dtrain, 500,\n",
        "                    valid_sets = [dtrain, dvalid])\n",
        "\n",
        "\n",
        "    y_pred_valid = trainer.predict(X_valid)\n",
        "    y_oof[valid_index] = y_pred_valid\n",
        "\n",
        "    print(f\"Fold {fold_n + 1} | AUC: {roc_auc_score(y_valid, y_pred_valid)}\")\n",
        "\n",
        "    score += roc_auc_score(y_valid, y_pred_valid) / nfolds\n",
        "    #y_preds += trainer.predict(X_test) / NFOLDS\n",
        "\n",
        "    # del X_train, X_valid, y_train, y_valid\n",
        "    # gc.collect()\n",
        "\n",
        "print(f\"\\nMean AUC = {score}\")\n",
        "print(f\"Out of folds AUC = {roc_auc_score(y, y_oof)}\")"
      ],
      "metadata": {
        "colab": {
          "base_uri": "https://localhost:8080/"
        },
        "id": "7dK5b3JAnuz9",
        "outputId": "4262fdd9-614a-437f-9aa7-d40f915efccb"
      },
      "execution_count": null,
      "outputs": [
        {
          "output_type": "stream",
          "name": "stdout",
          "text": [
            "[LightGBM] [Info] Auto-choosing row-wise multi-threading, the overhead of testing was 0.033894 seconds.\n",
            "You can set `force_row_wise=true` to remove the overhead.\n",
            "And if memory is not enough, you can set `force_col_wise=true`.\n",
            "[LightGBM] [Info] Total Bins 7800\n",
            "[LightGBM] [Info] Number of data points in the train set: 472432, number of used features: 52\n",
            "[LightGBM] [Info] Start training from score 0.037756\n",
            "Fold 1 | AUC: 0.8853684975307726\n",
            "[LightGBM] [Info] Auto-choosing row-wise multi-threading, the overhead of testing was 0.052043 seconds.\n",
            "You can set `force_row_wise=true` to remove the overhead.\n",
            "And if memory is not enough, you can set `force_col_wise=true`.\n",
            "[LightGBM] [Info] Total Bins 8569\n",
            "[LightGBM] [Info] Number of data points in the train set: 472432, number of used features: 52\n",
            "[LightGBM] [Info] Start training from score 0.033721\n",
            "Fold 2 | AUC: 0.9045571396615878\n",
            "[LightGBM] [Info] Auto-choosing row-wise multi-threading, the overhead of testing was 0.332274 seconds.\n",
            "You can set `force_row_wise=true` to remove the overhead.\n",
            "And if memory is not enough, you can set `force_col_wise=true`.\n",
            "[LightGBM] [Info] Total Bins 8571\n",
            "[LightGBM] [Info] Number of data points in the train set: 472432, number of used features: 52\n",
            "[LightGBM] [Info] Start training from score 0.034361\n",
            "Fold 3 | AUC: 0.9011890750226859\n",
            "[LightGBM] [Info] Auto-choosing row-wise multi-threading, the overhead of testing was 0.039202 seconds.\n",
            "You can set `force_row_wise=true` to remove the overhead.\n",
            "And if memory is not enough, you can set `force_col_wise=true`.\n",
            "[LightGBM] [Info] Total Bins 8578\n",
            "[LightGBM] [Info] Number of data points in the train set: 472432, number of used features: 52\n",
            "[LightGBM] [Info] Start training from score 0.033977\n",
            "Fold 4 | AUC: 0.916039227342071\n",
            "[LightGBM] [Info] Auto-choosing row-wise multi-threading, the overhead of testing was 0.035625 seconds.\n",
            "You can set `force_row_wise=true` to remove the overhead.\n",
            "And if memory is not enough, you can set `force_col_wise=true`.\n",
            "[LightGBM] [Info] Total Bins 8577\n",
            "[LightGBM] [Info] Number of data points in the train set: 472432, number of used features: 52\n",
            "[LightGBM] [Info] Start training from score 0.035135\n",
            "Fold 5 | AUC: 0.8921855562050646\n",
            "\n",
            "Mean AUC = 0.8998678991524364\n",
            "Out of folds AUC = 0.9000118540749346\n"
          ]
        }
      ]
    },
    {
      "cell_type": "markdown",
      "source": [
        "## Optimization"
      ],
      "metadata": {
        "id": "NaLcHDZhMveU"
      }
    },
    {
      "cell_type": "code",
      "source": [
        "import optuna"
      ],
      "metadata": {
        "id": "UtWVeJUsMuUF"
      },
      "execution_count": null,
      "outputs": []
    },
    {
      "cell_type": "code",
      "source": [
        "from hyperopt import fmin, tpe, hp, STATUS_OK, Trials"
      ],
      "metadata": {
        "id": "8w1EBqN5Q-QV"
      },
      "execution_count": null,
      "outputs": []
    },
    {
      "cell_type": "code",
      "source": [
        "space = {'num_leaves': hp.choice(\"num_leaves\", list(range(20, 100, 20))),\n",
        "          'feature_fraction': hp.uniform('feature_feaction', .3, .5),\n",
        "          'min_data_in_leaf': 50,\n",
        "          'objective': 'binary',\n",
        "          'max_depth': hp.uniform('max_depth', 3, 10), # usually 3-10\n",
        "          'learning_rate': hp.uniform('learning_rate', 0.01, .2), # usually .01-.2\n",
        "          \"metric\": 'auc',\n",
        "          'reg_alpha': hp.uniform('reg_alpha', 0.01, 0.4),\n",
        "          'reg_lambda': hp.uniform('reg_lambda', 0.01, 0.4),\n",
        "         }"
      ],
      "metadata": {
        "id": "CF_hqux7QwtZ"
      },
      "execution_count": null,
      "outputs": []
    },
    {
      "cell_type": "code",
      "source": [
        "def objective(params):\n",
        "  time1 = time.time()\n",
        "  nfolds = 3\n",
        "  folds = KFold(n_splits=nfolds) # lets do time based split\n",
        "\n",
        "  X = train_trans[all_cols]\n",
        "  y = train_trans['isFraud']\n",
        "\n",
        "  splits = folds.split(X, y)\n",
        "  cols = all_cols\n",
        "  y_oof = np.zeros(X.shape[0])\n",
        "\n",
        "  score = 0\n",
        "\n",
        "  for fold_n, (train_index, valid_index) in enumerate(splits):\n",
        "      X_train, X_valid = X[cols].iloc[train_index], X[cols].iloc[valid_index]\n",
        "      y_train, y_valid = y.iloc[train_index], y.iloc[valid_index]\n",
        "\n",
        "      dtrain = lgb.Dataset(X_train, label=y_train)\n",
        "      dvalid = lgb.Dataset(X_valid, label=y_valid)\n",
        "\n",
        "      trainer = lgb.train(start_params, dtrain, 500,\n",
        "                      valid_sets = [dtrain, dvalid])\n",
        "\n",
        "\n",
        "      y_pred_valid = trainer.predict(X_valid)\n",
        "      y_oof[valid_index] = y_pred_valid\n",
        "\n",
        "      print(f\"Fold {fold_n + 1} | AUC: {roc_auc_score(y_valid, y_pred_valid)}\")\n",
        "\n",
        "      score += roc_auc_score(y_valid, y_pred_valid)\n",
        "  return score"
      ],
      "metadata": {
        "id": "_zYkCzFlUqNq"
      },
      "execution_count": null,
      "outputs": []
    },
    {
      "cell_type": "code",
      "source": [],
      "metadata": {
        "id": "9h147VSCWSUo"
      },
      "execution_count": null,
      "outputs": []
    },
    {
      "cell_type": "code",
      "source": [
        "best = fmin(fn=objective,\n",
        "            space=space,\n",
        "            algo=tpe.suggest,\n",
        "            max_evals=10)"
      ],
      "metadata": {
        "colab": {
          "base_uri": "https://localhost:8080/"
        },
        "id": "q_4N8s69QNT1",
        "outputId": "306e4d74-58b7-4438-8430-b36316e46290"
      },
      "execution_count": null,
      "outputs": [
        {
          "output_type": "stream",
          "name": "stdout",
          "text": [
            "[LightGBM] [Info] Auto-choosing row-wise multi-threading, the overhead of testing was 0.027861 seconds.\n",
            "You can set `force_row_wise=true` to remove the overhead.\n",
            "And if memory is not enough, you can set `force_col_wise=true`.\n",
            "[LightGBM] [Info] Total Bins 7794\n",
            "[LightGBM] [Info] Number of data points in the train set: 393693, number of used features: 52\n",
            "[LightGBM] [Info] Start training from score 0.037664\n",
            "Fold 1 | AUC: 0.8838755237045184\n",
            "[LightGBM] [Info] Auto-choosing row-wise multi-threading, the overhead of testing was 0.285484 seconds.\n",
            "You can set `force_row_wise=true` to remove the overhead.\n",
            "And if memory is not enough, you can set `force_col_wise=true`.\n",
            "[LightGBM] [Info] Total Bins 8576\n",
            "[LightGBM] [Info] Number of data points in the train set: 393693, number of used features: 52\n",
            "[LightGBM] [Info] Start training from score 0.032812\n",
            "Fold 2 | AUC: 0.8901898244237474\n",
            "[LightGBM] [Info] Auto-choosing row-wise multi-threading, the overhead of testing was 0.029722 seconds.\n",
            "You can set `force_row_wise=true` to remove the overhead.\n",
            "And if memory is not enough, you can set `force_col_wise=true`.\n",
            "[LightGBM] [Info] Total Bins 8579\n",
            "[LightGBM] [Info] Number of data points in the train set: 393694, number of used features: 52\n",
            "[LightGBM] [Info] Start training from score 0.034494\n",
            "Fold 3 | AUC: 0.8920043077667976\n",
            "[LightGBM] [Info] Auto-choosing row-wise multi-threading, the overhead of testing was 0.025971 seconds.\n",
            "You can set `force_row_wise=true` to remove the overhead.\n",
            "And if memory is not enough, you can set `force_col_wise=true`.\n",
            "[LightGBM] [Info] Total Bins 7794\n",
            "[LightGBM] [Info] Number of data points in the train set: 393693, number of used features: 52\n",
            "[LightGBM] [Info] Start training from score 0.037664\n",
            "Fold 1 | AUC: 0.8838755237045184\n",
            "[LightGBM] [Info] Auto-choosing row-wise multi-threading, the overhead of testing was 0.031757 seconds.\n",
            "You can set `force_row_wise=true` to remove the overhead.\n",
            "And if memory is not enough, you can set `force_col_wise=true`.\n",
            "[LightGBM] [Info] Total Bins 8576\n",
            "[LightGBM] [Info] Number of data points in the train set: 393693, number of used features: 52\n",
            "[LightGBM] [Info] Start training from score 0.032812\n",
            "Fold 2 | AUC: 0.8901898244237474\n",
            "[LightGBM] [Info] Auto-choosing col-wise multi-threading, the overhead of testing was 0.138987 seconds.\n",
            "You can set `force_col_wise=true` to remove the overhead.\n",
            "[LightGBM] [Info] Total Bins 8579\n",
            "[LightGBM] [Info] Number of data points in the train set: 393694, number of used features: 52\n",
            "[LightGBM] [Info] Start training from score 0.034494\n",
            "Fold 3 | AUC: 0.8920043077667976\n",
            "[LightGBM] [Info] Auto-choosing row-wise multi-threading, the overhead of testing was 0.028484 seconds.\n",
            "You can set `force_row_wise=true` to remove the overhead.\n",
            "And if memory is not enough, you can set `force_col_wise=true`.\n",
            "[LightGBM] [Info] Total Bins 7794\n",
            "[LightGBM] [Info] Number of data points in the train set: 393693, number of used features: 52\n",
            "[LightGBM] [Info] Start training from score 0.037664\n",
            "Fold 1 | AUC: 0.8838755237045184\n",
            "[LightGBM] [Info] Auto-choosing row-wise multi-threading, the overhead of testing was 0.028422 seconds.\n",
            "You can set `force_row_wise=true` to remove the overhead.\n",
            "And if memory is not enough, you can set `force_col_wise=true`.\n",
            "[LightGBM] [Info] Total Bins 8576\n",
            "[LightGBM] [Info] Number of data points in the train set: 393693, number of used features: 52\n",
            "[LightGBM] [Info] Start training from score 0.032812\n",
            "Fold 2 | AUC: 0.8901898244237474\n",
            "[LightGBM] [Info] Auto-choosing row-wise multi-threading, the overhead of testing was 0.028456 seconds.\n",
            "You can set `force_row_wise=true` to remove the overhead.\n",
            "And if memory is not enough, you can set `force_col_wise=true`.\n",
            "[LightGBM] [Info] Total Bins 8579\n",
            "[LightGBM] [Info] Number of data points in the train set: 393694, number of used features: 52\n",
            "[LightGBM] [Info] Start training from score 0.034494\n",
            "Fold 3 | AUC: 0.8920043077667976\n",
            "[LightGBM] [Info] Auto-choosing row-wise multi-threading, the overhead of testing was 0.027094 seconds.\n",
            "You can set `force_row_wise=true` to remove the overhead.\n",
            "And if memory is not enough, you can set `force_col_wise=true`.\n",
            "[LightGBM] [Info] Total Bins 7794\n",
            "[LightGBM] [Info] Number of data points in the train set: 393693, number of used features: 52\n",
            "[LightGBM] [Info] Start training from score 0.037664\n",
            "Fold 1 | AUC: 0.8838755237045184\n",
            "[LightGBM] [Info] Auto-choosing row-wise multi-threading, the overhead of testing was 0.028798 seconds.\n",
            "You can set `force_row_wise=true` to remove the overhead.\n",
            "And if memory is not enough, you can set `force_col_wise=true`.\n",
            "[LightGBM] [Info] Total Bins 8576\n",
            "[LightGBM] [Info] Number of data points in the train set: 393693, number of used features: 52\n",
            "[LightGBM] [Info] Start training from score 0.032812\n",
            "Fold 2 | AUC: 0.8901898244237474\n",
            "[LightGBM] [Info] Auto-choosing row-wise multi-threading, the overhead of testing was 0.029821 seconds.\n",
            "You can set `force_row_wise=true` to remove the overhead.\n",
            "And if memory is not enough, you can set `force_col_wise=true`.\n",
            "[LightGBM] [Info] Total Bins 8579\n",
            "[LightGBM] [Info] Number of data points in the train set: 393694, number of used features: 52\n",
            "[LightGBM] [Info] Start training from score 0.034494\n",
            "Fold 3 | AUC: 0.8920043077667976\n",
            "[LightGBM] [Info] Auto-choosing row-wise multi-threading, the overhead of testing was 0.025922 seconds.\n",
            "You can set `force_row_wise=true` to remove the overhead.\n",
            "And if memory is not enough, you can set `force_col_wise=true`.\n",
            "[LightGBM] [Info] Total Bins 7794\n",
            "[LightGBM] [Info] Number of data points in the train set: 393693, number of used features: 52\n",
            "[LightGBM] [Info] Start training from score 0.037664\n",
            "Fold 1 | AUC: 0.8838755237045184\n",
            "[LightGBM] [Info] Auto-choosing row-wise multi-threading, the overhead of testing was 0.028272 seconds.\n",
            "You can set `force_row_wise=true` to remove the overhead.\n",
            "And if memory is not enough, you can set `force_col_wise=true`.\n",
            "[LightGBM] [Info] Total Bins 8576\n",
            "[LightGBM] [Info] Number of data points in the train set: 393693, number of used features: 52\n",
            "[LightGBM] [Info] Start training from score 0.032812\n",
            "Fold 2 | AUC: 0.8901898244237474\n",
            "[LightGBM] [Info] Auto-choosing row-wise multi-threading, the overhead of testing was 0.231334 seconds.\n",
            "You can set `force_row_wise=true` to remove the overhead.\n",
            "And if memory is not enough, you can set `force_col_wise=true`.\n",
            "[LightGBM] [Info] Total Bins 8579\n",
            "[LightGBM] [Info] Number of data points in the train set: 393694, number of used features: 52\n",
            "[LightGBM] [Info] Start training from score 0.034494\n",
            "Fold 3 | AUC: 0.8920043077667976\n",
            "[LightGBM] [Info] Auto-choosing row-wise multi-threading, the overhead of testing was 0.027037 seconds.\n",
            "You can set `force_row_wise=true` to remove the overhead.\n",
            "And if memory is not enough, you can set `force_col_wise=true`.\n",
            "[LightGBM] [Info] Total Bins 7794\n",
            "[LightGBM] [Info] Number of data points in the train set: 393693, number of used features: 52\n",
            "[LightGBM] [Info] Start training from score 0.037664\n",
            "Fold 1 | AUC: 0.8838755237045184\n",
            "[LightGBM] [Info] Auto-choosing col-wise multi-threading, the overhead of testing was 0.096116 seconds.\n",
            "You can set `force_col_wise=true` to remove the overhead.\n",
            "[LightGBM] [Info] Total Bins 8576\n",
            "[LightGBM] [Info] Number of data points in the train set: 393693, number of used features: 52\n",
            "[LightGBM] [Info] Start training from score 0.032812\n",
            "Fold 2 | AUC: 0.8901898244237474\n",
            "[LightGBM] [Info] Auto-choosing row-wise multi-threading, the overhead of testing was 0.030841 seconds.\n",
            "You can set `force_row_wise=true` to remove the overhead.\n",
            "And if memory is not enough, you can set `force_col_wise=true`.\n",
            "[LightGBM] [Info] Total Bins 8579\n",
            "[LightGBM] [Info] Number of data points in the train set: 393694, number of used features: 52\n",
            "[LightGBM] [Info] Start training from score 0.034494\n",
            "Fold 3 | AUC: 0.8920043077667976\n",
            "[LightGBM] [Info] Auto-choosing row-wise multi-threading, the overhead of testing was 0.026029 seconds.\n",
            "You can set `force_row_wise=true` to remove the overhead.\n",
            "And if memory is not enough, you can set `force_col_wise=true`.\n",
            "[LightGBM] [Info] Total Bins 7794\n",
            "[LightGBM] [Info] Number of data points in the train set: 393693, number of used features: 52\n",
            "[LightGBM] [Info] Start training from score 0.037664\n",
            "Fold 1 | AUC: 0.8838755237045184\n",
            "[LightGBM] [Info] Auto-choosing row-wise multi-threading, the overhead of testing was 0.035150 seconds.\n",
            "You can set `force_row_wise=true` to remove the overhead.\n",
            "And if memory is not enough, you can set `force_col_wise=true`.\n",
            "[LightGBM] [Info] Total Bins 8576\n",
            "[LightGBM] [Info] Number of data points in the train set: 393693, number of used features: 52\n",
            "[LightGBM] [Info] Start training from score 0.032812\n",
            "Fold 2 | AUC: 0.8901898244237474\n",
            "[LightGBM] [Info] Auto-choosing row-wise multi-threading, the overhead of testing was 0.042045 seconds.\n",
            "You can set `force_row_wise=true` to remove the overhead.\n",
            "And if memory is not enough, you can set `force_col_wise=true`.\n",
            "[LightGBM] [Info] Total Bins 8579\n",
            "[LightGBM] [Info] Number of data points in the train set: 393694, number of used features: 52\n",
            "[LightGBM] [Info] Start training from score 0.034494\n",
            "Fold 3 | AUC: 0.8920043077667976\n",
            "[LightGBM] [Info] Auto-choosing row-wise multi-threading, the overhead of testing was 0.553618 seconds.\n",
            "You can set `force_row_wise=true` to remove the overhead.\n",
            "And if memory is not enough, you can set `force_col_wise=true`.\n",
            "[LightGBM] [Info] Total Bins 7794\n",
            "[LightGBM] [Info] Number of data points in the train set: 393693, number of used features: 52\n",
            "[LightGBM] [Info] Start training from score 0.037664\n",
            "Fold 1 | AUC: 0.8838755237045184\n",
            "[LightGBM] [Info] Auto-choosing row-wise multi-threading, the overhead of testing was 0.034255 seconds.\n",
            "You can set `force_row_wise=true` to remove the overhead.\n",
            "And if memory is not enough, you can set `force_col_wise=true`.\n",
            "[LightGBM] [Info] Total Bins 8576\n",
            "[LightGBM] [Info] Number of data points in the train set: 393693, number of used features: 52\n",
            "[LightGBM] [Info] Start training from score 0.032812\n",
            "Fold 2 | AUC: 0.8901898244237474\n",
            "[LightGBM] [Info] Auto-choosing row-wise multi-threading, the overhead of testing was 0.031250 seconds.\n",
            "You can set `force_row_wise=true` to remove the overhead.\n",
            "And if memory is not enough, you can set `force_col_wise=true`.\n",
            "[LightGBM] [Info] Total Bins 8579\n",
            "[LightGBM] [Info] Number of data points in the train set: 393694, number of used features: 52\n",
            "[LightGBM] [Info] Start training from score 0.034494\n",
            "Fold 3 | AUC: 0.8920043077667976\n",
            "[LightGBM] [Info] Auto-choosing row-wise multi-threading, the overhead of testing was 0.024875 seconds.\n",
            "You can set `force_row_wise=true` to remove the overhead.\n",
            "And if memory is not enough, you can set `force_col_wise=true`.\n",
            "[LightGBM] [Info] Total Bins 7794\n",
            "[LightGBM] [Info] Number of data points in the train set: 393693, number of used features: 52\n",
            "[LightGBM] [Info] Start training from score 0.037664\n",
            "Fold 1 | AUC: 0.8838755237045184\n",
            "[LightGBM] [Info] Auto-choosing row-wise multi-threading, the overhead of testing was 0.030259 seconds.\n",
            "You can set `force_row_wise=true` to remove the overhead.\n",
            "And if memory is not enough, you can set `force_col_wise=true`.\n",
            "[LightGBM] [Info] Total Bins 8576\n",
            "[LightGBM] [Info] Number of data points in the train set: 393693, number of used features: 52\n",
            "[LightGBM] [Info] Start training from score 0.032812\n",
            "Fold 2 | AUC: 0.8901898244237474\n",
            "[LightGBM] [Info] Auto-choosing col-wise multi-threading, the overhead of testing was 0.287203 seconds.\n",
            "You can set `force_col_wise=true` to remove the overhead.\n",
            "[LightGBM] [Info] Total Bins 8579\n",
            "[LightGBM] [Info] Number of data points in the train set: 393694, number of used features: 52\n",
            "[LightGBM] [Info] Start training from score 0.034494\n",
            "Fold 3 | AUC: 0.8920043077667976\n",
            "[LightGBM] [Info] Auto-choosing row-wise multi-threading, the overhead of testing was 0.027991 seconds.\n",
            "You can set `force_row_wise=true` to remove the overhead.\n",
            "And if memory is not enough, you can set `force_col_wise=true`.\n",
            "[LightGBM] [Info] Total Bins 7794\n",
            "[LightGBM] [Info] Number of data points in the train set: 393693, number of used features: 52\n",
            "[LightGBM] [Info] Start training from score 0.037664\n",
            "Fold 1 | AUC: 0.8838755237045184\n",
            "[LightGBM] [Info] Auto-choosing row-wise multi-threading, the overhead of testing was 0.029154 seconds.\n",
            "You can set `force_row_wise=true` to remove the overhead.\n",
            "And if memory is not enough, you can set `force_col_wise=true`.\n",
            "[LightGBM] [Info] Total Bins 8576\n",
            "[LightGBM] [Info] Number of data points in the train set: 393693, number of used features: 52\n",
            "[LightGBM] [Info] Start training from score 0.032812\n",
            "Fold 2 | AUC: 0.8901898244237474\n",
            "[LightGBM] [Info] Auto-choosing row-wise multi-threading, the overhead of testing was 0.029006 seconds.\n",
            "You can set `force_row_wise=true` to remove the overhead.\n",
            "And if memory is not enough, you can set `force_col_wise=true`.\n",
            "[LightGBM] [Info] Total Bins 8579\n",
            "[LightGBM] [Info] Number of data points in the train set: 393694, number of used features: 52\n",
            "[LightGBM] [Info] Start training from score 0.034494\n",
            "Fold 3 | AUC: 0.8920043077667976\n",
            "100%|██████████| 10/10 [05:54<00:00, 35.47s/trial, best loss: 2.6660696558950634]\n"
          ]
        }
      ]
    },
    {
      "cell_type": "code",
      "source": [
        "best_params = space_eval(space, best)"
      ],
      "metadata": {
        "colab": {
          "base_uri": "https://localhost:8080/"
        },
        "id": "CoCBd31zMuW5",
        "outputId": "bde38b9d-6b07-47cd-fde2-f4d1b15ff7ca"
      },
      "execution_count": null,
      "outputs": [
        {
          "output_type": "stream",
          "name": "stdout",
          "text": [
            "Collecting optuna\n",
            "  Downloading optuna-3.4.0-py3-none-any.whl (409 kB)\n",
            "\u001b[2K     \u001b[90m━━━━━━━━━━━━━━━━━━━━━━━━━━━━━━━━━━━━━━━━\u001b[0m \u001b[32m409.6/409.6 kB\u001b[0m \u001b[31m7.0 MB/s\u001b[0m eta \u001b[36m0:00:00\u001b[0m\n",
            "\u001b[?25hCollecting alembic>=1.5.0 (from optuna)\n",
            "  Downloading alembic-1.12.1-py3-none-any.whl (226 kB)\n",
            "\u001b[2K     \u001b[90m━━━━━━━━━━━━━━━━━━━━━━━━━━━━━━━━━━━━━━━━\u001b[0m \u001b[32m226.8/226.8 kB\u001b[0m \u001b[31m24.0 MB/s\u001b[0m eta \u001b[36m0:00:00\u001b[0m\n",
            "\u001b[?25hCollecting colorlog (from optuna)\n",
            "  Downloading colorlog-6.7.0-py2.py3-none-any.whl (11 kB)\n",
            "Requirement already satisfied: numpy in /usr/local/lib/python3.10/dist-packages (from optuna) (1.23.5)\n",
            "Requirement already satisfied: packaging>=20.0 in /usr/local/lib/python3.10/dist-packages (from optuna) (23.2)\n",
            "Requirement already satisfied: sqlalchemy>=1.3.0 in /usr/local/lib/python3.10/dist-packages (from optuna) (2.0.22)\n",
            "Requirement already satisfied: tqdm in /usr/local/lib/python3.10/dist-packages (from optuna) (4.66.1)\n",
            "Requirement already satisfied: PyYAML in /usr/local/lib/python3.10/dist-packages (from optuna) (6.0.1)\n",
            "Collecting Mako (from alembic>=1.5.0->optuna)\n",
            "  Downloading Mako-1.2.4-py3-none-any.whl (78 kB)\n",
            "\u001b[2K     \u001b[90m━━━━━━━━━━━━━━━━━━━━━━━━━━━━━━━━━━━━━━━━\u001b[0m \u001b[32m78.7/78.7 kB\u001b[0m \u001b[31m9.0 MB/s\u001b[0m eta \u001b[36m0:00:00\u001b[0m\n",
            "\u001b[?25hRequirement already satisfied: typing-extensions>=4 in /usr/local/lib/python3.10/dist-packages (from alembic>=1.5.0->optuna) (4.5.0)\n",
            "Requirement already satisfied: greenlet!=0.4.17 in /usr/local/lib/python3.10/dist-packages (from sqlalchemy>=1.3.0->optuna) (3.0.0)\n",
            "Requirement already satisfied: MarkupSafe>=0.9.2 in /usr/local/lib/python3.10/dist-packages (from Mako->alembic>=1.5.0->optuna) (2.1.3)\n",
            "Installing collected packages: Mako, colorlog, alembic, optuna\n",
            "Successfully installed Mako-1.2.4 alembic-1.12.1 colorlog-6.7.0 optuna-3.4.0\n"
          ]
        }
      ]
    },
    {
      "cell_type": "code",
      "source": [
        "train_trans[cont_columns].info()"
      ],
      "metadata": {
        "colab": {
          "base_uri": "https://localhost:8080/"
        },
        "id": "G8wLHM56sV8I",
        "outputId": "92465fd4-4016-4f7d-d512-8519e3d184b4"
      },
      "execution_count": null,
      "outputs": [
        {
          "output_type": "stream",
          "name": "stdout",
          "text": [
            "<class 'pandas.core.frame.DataFrame'>\n",
            "RangeIndex: 590540 entries, 0 to 590539\n",
            "Data columns (total 32 columns):\n",
            " #   Column          Non-Null Count   Dtype  \n",
            "---  ------          --------------   -----  \n",
            " 0   TransactionAmt  590540 non-null  float64\n",
            " 1   dist1           238269 non-null  float64\n",
            " 2   dist2           37627 non-null   float64\n",
            " 3   C1              590540 non-null  float64\n",
            " 4   C2              590540 non-null  float64\n",
            " 5   C3              590540 non-null  float64\n",
            " 6   C4              590540 non-null  float64\n",
            " 7   C5              590540 non-null  float64\n",
            " 8   C6              590540 non-null  float64\n",
            " 9   C7              590540 non-null  float64\n",
            " 10  C8              590540 non-null  float64\n",
            " 11  C9              590540 non-null  float64\n",
            " 12  C10             590540 non-null  float64\n",
            " 13  C11             590540 non-null  float64\n",
            " 14  C12             590540 non-null  float64\n",
            " 15  C13             590540 non-null  float64\n",
            " 16  C14             590540 non-null  float64\n",
            " 17  D1              589271 non-null  float64\n",
            " 18  D2              309743 non-null  float64\n",
            " 19  D3              327662 non-null  float64\n",
            " 20  D4              421618 non-null  float64\n",
            " 21  D5              280699 non-null  float64\n",
            " 22  D6              73187 non-null   float64\n",
            " 23  D7              38917 non-null   float64\n",
            " 24  D8              74926 non-null   float64\n",
            " 25  D9              74926 non-null   float64\n",
            " 26  D10             514518 non-null  float64\n",
            " 27  D11             311253 non-null  float64\n",
            " 28  D12             64717 non-null   float64\n",
            " 29  D13             61952 non-null   float64\n",
            " 30  D14             62187 non-null   float64\n",
            " 31  D15             501427 non-null  float64\n",
            "dtypes: float64(32)\n",
            "memory usage: 144.2 MB\n"
          ]
        }
      ]
    },
    {
      "cell_type": "code",
      "source": [
        "%"
      ],
      "metadata": {
        "colab": {
          "base_uri": "https://localhost:8080/"
        },
        "id": "3NpWBmS5rfeF",
        "outputId": "152a73ce-d005-4be9-e483-6fe1e42effb2"
      },
      "execution_count": null,
      "outputs": [
        {
          "output_type": "execute_result",
          "data": {
            "text/plain": [
              "0     TransactionAmt\n",
              "1              dist1\n",
              "2              dist2\n",
              "3                 C1\n",
              "4                 C2\n",
              "5                 C3\n",
              "6                 C4\n",
              "7                 C5\n",
              "8                 C6\n",
              "9                 C7\n",
              "10                C8\n",
              "11                C9\n",
              "12               C10\n",
              "13               C11\n",
              "14               C12\n",
              "15               C13\n",
              "16               C14\n",
              "17                D1\n",
              "18                D2\n",
              "19                D3\n",
              "20                D4\n",
              "21                D5\n",
              "22                D6\n",
              "23                D7\n",
              "24                D8\n",
              "25                D9\n",
              "26               D10\n",
              "27               D11\n",
              "28               D12\n",
              "29               D13\n",
              "30               D14\n",
              "31               D15\n",
              "dtype: object"
            ]
          },
          "metadata": {},
          "execution_count": 28
        }
      ]
    },
    {
      "cell_type": "code",
      "source": [
        "cat_columns"
      ],
      "metadata": {
        "colab": {
          "base_uri": "https://localhost:8080/"
        },
        "id": "h-0yrR0mj-Yk",
        "outputId": "1b79b9e4-de11-4d2c-a052-7aebbd997338"
      },
      "execution_count": null,
      "outputs": [
        {
          "output_type": "execute_result",
          "data": {
            "text/plain": [
              "['card1',\n",
              " 'card2',\n",
              " 'card3',\n",
              " 'card5',\n",
              " 'addr1',\n",
              " 'addr2',\n",
              " 'ProductCD',\n",
              " 'card4',\n",
              " 'card6',\n",
              " 'P_emaildomain',\n",
              " 'R_emaildomain',\n",
              " 'M1',\n",
              " 'M2',\n",
              " 'M3',\n",
              " 'M4',\n",
              " 'M5',\n",
              " 'M6',\n",
              " 'M7',\n",
              " 'M8',\n",
              " 'M9']"
            ]
          },
          "metadata": {},
          "execution_count": 29
        }
      ]
    },
    {
      "cell_type": "code",
      "source": [
        "tmp = pd.crosstab(train_trans['card3'], train_trans['isFraud'], normalize='index') * 100\n",
        "tmp.reset_index(inplace=True)\n",
        "tmp.rename(columns={0:'NoFraud', 1:'Fraud'}, inplace=True)\n",
        "plt.figure(figsize=(14, 16))\n",
        "\n",
        "# each plot is created in a plot // CONTINUOUS\n",
        "plt.subplot(411)\n",
        "g = sns.distplot(train_trans[train_trans['isFraud'] == 1]['card1'], label='Fraud')\n",
        "g = sns.distplot(train_trans[train_trans['isFraud'] == 0]['card1'], label='NoFraud')\n",
        "g.legend()\n",
        "g.set_title(\"Card 1 Values Distribution by Target\", fontsize=20)\n",
        "g.set_xlabel(\"Card 1 Values\", fontsize=18)\n",
        "g.set_ylabel(\"Probability\", fontsize=18)\n",
        "\n",
        "plt.subplot(412)\n",
        "g1 = sns.distplot(train_trans[train_trans['isFraud'] == 1]['card2'].dropna(), label='Fraud')\n",
        "g1 = sns.distplot(train_trans[train_trans['isFraud'] == 0]['card2'].dropna(), label='NoFraud')\n",
        "g1.legend()\n",
        "g1.set_title(\"Card 2 Values Distribution by Target\", fontsize=20)\n",
        "g1.set_xlabel(\"Card 2 Values\", fontsize=18)\n",
        "g1.set_ylabel(\"Probability\", fontsize=18)\n",
        "plt.tight_layout()\n",
        "\n",
        "\n",
        "plt.subplot(413) #\n",
        "g2 = sns.countplot(x='card3', data=train_trans, order=list(tmp.card3.values))\n",
        "g22 = g2.twinx()\n",
        "gg2 = sns.pointplot(x='card3', y='Fraud', data=tmp,\n",
        "                    color='black', order=list(tmp.card3.values))\n",
        "gg2.set_ylabel(\"% of Fraud Transactions\", fontsize=16)\n",
        "g2.set_title(\"Card 3 Values Distribution and % of Transaction Frauds\", fontsize=20)\n",
        "g2.set_xlabel(\"Card 3 Values\", fontsize=18)\n",
        "g2.set_ylabel(\"Count\", fontsize=18)"
      ],
      "metadata": {
        "colab": {
          "base_uri": "https://localhost:8080/",
          "height": 1000
        },
        "id": "wedS_OcsEnfc",
        "outputId": "5740a597-508b-41f0-ccdb-24cba5bbb1a6"
      },
      "execution_count": null,
      "outputs": [
        {
          "output_type": "stream",
          "name": "stderr",
          "text": [
            "<ipython-input-30-7c42467c6b8c>:8: UserWarning: \n",
            "\n",
            "`distplot` is a deprecated function and will be removed in seaborn v0.14.0.\n",
            "\n",
            "Please adapt your code to use either `displot` (a figure-level function with\n",
            "similar flexibility) or `histplot` (an axes-level function for histograms).\n",
            "\n",
            "For a guide to updating your code to use the new functions, please see\n",
            "https://gist.github.com/mwaskom/de44147ed2974457ad6372750bbe5751\n",
            "\n",
            "<ipython-input-30-7c42467c6b8c>:9: UserWarning: \n",
            "\n",
            "`distplot` is a deprecated function and will be removed in seaborn v0.14.0.\n",
            "\n",
            "Please adapt your code to use either `displot` (a figure-level function with\n",
            "similar flexibility) or `histplot` (an axes-level function for histograms).\n",
            "\n",
            "For a guide to updating your code to use the new functions, please see\n",
            "https://gist.github.com/mwaskom/de44147ed2974457ad6372750bbe5751\n",
            "\n",
            "<ipython-input-30-7c42467c6b8c>:16: UserWarning: \n",
            "\n",
            "`distplot` is a deprecated function and will be removed in seaborn v0.14.0.\n",
            "\n",
            "Please adapt your code to use either `displot` (a figure-level function with\n",
            "similar flexibility) or `histplot` (an axes-level function for histograms).\n",
            "\n",
            "For a guide to updating your code to use the new functions, please see\n",
            "https://gist.github.com/mwaskom/de44147ed2974457ad6372750bbe5751\n",
            "\n",
            "<ipython-input-30-7c42467c6b8c>:17: UserWarning: \n",
            "\n",
            "`distplot` is a deprecated function and will be removed in seaborn v0.14.0.\n",
            "\n",
            "Please adapt your code to use either `displot` (a figure-level function with\n",
            "similar flexibility) or `histplot` (an axes-level function for histograms).\n",
            "\n",
            "For a guide to updating your code to use the new functions, please see\n",
            "https://gist.github.com/mwaskom/de44147ed2974457ad6372750bbe5751\n",
            "\n"
          ]
        },
        {
          "output_type": "execute_result",
          "data": {
            "text/plain": [
              "Text(0, 0.5, 'Count')"
            ]
          },
          "metadata": {},
          "execution_count": 30
        },
        {
          "output_type": "display_data",
          "data": {
            "text/plain": [
              "<Figure size 1400x1600 with 4 Axes>"
            ],
            "image/png": "[encoded data removed]"
          },
          "metadata": {}
        }
      ]
    },
    {
      "cell_type": "code",
      "source": [],
      "metadata": {
        "id": "4tmht4G4EnqH"
      },
      "execution_count": null,
      "outputs": []
    },
    {
      "cell_type": "code",
      "source": [
        "matching_cols = train_trans.columns[train_trans.columns.str.contains('^M[1-9]')].tolist()\n",
        "card_cols = train_trans.columns[train_trans.columns.str.contains('^card[1-9]')].tolist()\n",
        "# trans_cat_cols = ['P_emaildomain', 'R_emaildomain', 'addr1', 'addr2'] + matching_cols + card_cols\n",
        "# identity_cols = ['DeviceType', 'DeviceInfo'] + ['id_{}'.format(i) for i in range(12, 38+1)]\n",
        "\n",
        "categorical_vars ="
      ],
      "metadata": {
        "id": "ZAhrhK246ptz",
        "colab": {
          "base_uri": "https://localhost:8080/",
          "height": 143
        },
        "outputId": "4c17fe2c-baf1-4c2b-ad6d-7ad17d98e579"
      },
      "execution_count": null,
      "outputs": [
        {
          "output_type": "error",
          "ename": "SyntaxError",
          "evalue": "ignored",
          "traceback": [
            "\u001b[0;36m  File \u001b[0;32m\"<ipython-input-31-c580458c9860>\"\u001b[0;36m, line \u001b[0;32m6\u001b[0m\n\u001b[0;31m    categorical_vars =\u001b[0m\n\u001b[0m                      ^\u001b[0m\n\u001b[0;31mSyntaxError\u001b[0m\u001b[0;31m:\u001b[0m invalid syntax\n"
          ]
        }
      ]
    }
  ]
}
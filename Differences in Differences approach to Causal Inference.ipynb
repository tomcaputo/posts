{
 "cells": [
  {
   "cell_type": "markdown",
   "metadata": {},
   "source": [
    "# Differences-in-differences: Pre and Post, Treatment and Control"
   ]
  },
  {
   "cell_type": "markdown",
   "metadata": {},
   "source": [
    "### When to Use\n",
    "\n",
    "DiD is an approach to causal inference when there is no randomized treatment, but we have (1) counterfactual data, (2) an intervention/treatment applied at time `t`, and (3) measurements pre + post intervention.\n",
    "\n",
    "The idea behind DiD is simple. First, we compute the difference in the mean of the outcome between the two groups in the “Before” period, which is (A) in the above graph. Second, we compute the same for the “After” period, which is (B). Then we take the “second difference”, which is the difference between (A) and (B) and is labeled as (C). This second difference measures how the change in outcome differs between the two groups. The difference is attributed to the causal effect of the intervention.\n",
    "\n",
    "<img src=\"../did.png\" style=\"width: 500px;\">\n",
    "\n",
    "### Assumptions\n",
    "\n",
    "**Parallel pre-intervention trends:** The treatment and control groups have parallel trends in the outcome. This means in the absence of the intervention, the difference between the treatment and control group is constant over time. You may have to condition on a set confounding variable to align the trends.\n",
    "\n",
    "**No spillover:** The intervention only affects the treatment group\n",
    "\n",
    "\n",
    "\n",
    "## Approach\n",
    "\n",
    "The idea behind DiD is simple. First, we compute the difference in the mean of the outcome between the two groups in the “Before” period, which is (A) in the above graph. Second, we compute the same for the “After” period, which is (B). Then we take the “second difference”, which is the difference between (A) and (B) and is labeled as (C). This second difference measures how the change in outcome differs between the two groups. The difference is attributed to the causal effect of the intervention.\n",
    "\n",
    "\n",
    "## Control\n",
    "\n",
    "### Choosing a Control\n",
    "\n",
    "Choice of the control group is critical in DiD. It behaves as the counterfactual or “what if” scenario. **The control must have the same expected future outcome**, i.e. The two groups produce parallel trends across time. To achieve this you may have to:\n",
    "\n",
    "1. Subset/filter your control or treatment groups so your populations match. [Abadie and Gardeazabal, 2001](https://www.nber.org/system/files/working_papers/w8478/w8478.pdf)\n",
    "\n",
    "2. Condition on population characteristics in a regression model e.g. income, age, etc.. [Card and Krueger, 2013](https://davidcard.berkeley.edu/papers/njmin-aer.pdf)\n"
   ]
  },
  {
   "cell_type": "markdown",
   "metadata": {},
   "source": [
    "## Example\n",
    "\n",
    "To make this concrete, suppose we are interested in the e§ect of the minimum wage on employment, a classic question in Labor Economics. In a competitive labor market, increases in the minimum wage move us up a downward-sloping demand curve. Higher minimums therefore reduce employment, perhaps hurting the very workers minimum-wage policies were designed to help. Card and Krueger (1994) use a dramatic change in the New Jersey state minimum wage to see if this is true."
   ]
  },
  {
   "cell_type": "code",
   "execution_count": 1,
   "metadata": {
    "collapsed": false
   },
   "outputs": [],
   "source": [
    "import pandas as pd\n",
    "import statsmodels.api as sm\n",
    "import statsmodels.formula.api as smf\n",
    "import numpy as np\n",
    "import matplotlib.pyplot as plt\n",
    "\n",
    "%matplotlib inline"
   ]
  },
  {
   "cell_type": "code",
   "execution_count": 2,
   "metadata": {
    "collapsed": true
   },
   "outputs": [],
   "source": [
    "data = pd.read_csv('../data/njmin3.csv')"
   ]
  },
  {
   "cell_type": "code",
   "execution_count": 3,
   "metadata": {
    "collapsed": false
   },
   "outputs": [
    {
     "data": {
      "text/html": [
       "<div>\n",
       "<style scoped>\n",
       "    .dataframe tbody tr th:only-of-type {\n",
       "        vertical-align: middle;\n",
       "    }\n",
       "\n",
       "    .dataframe tbody tr th {\n",
       "        vertical-align: top;\n",
       "    }\n",
       "\n",
       "    .dataframe thead th {\n",
       "        text-align: right;\n",
       "    }\n",
       "</style>\n",
       "<table border=\"1\" class=\"dataframe\">\n",
       "  <thead>\n",
       "    <tr style=\"text-align: right;\">\n",
       "      <th></th>\n",
       "      <th>CO_OWNED</th>\n",
       "      <th>SOUTHJ</th>\n",
       "      <th>CENTRALJ</th>\n",
       "      <th>PA1</th>\n",
       "      <th>PA2</th>\n",
       "      <th>DEMP</th>\n",
       "      <th>nj</th>\n",
       "      <th>bk</th>\n",
       "      <th>kfc</th>\n",
       "      <th>roys</th>\n",
       "      <th>wendys</th>\n",
       "      <th>d</th>\n",
       "      <th>d_nj</th>\n",
       "      <th>fte</th>\n",
       "    </tr>\n",
       "  </thead>\n",
       "  <tbody>\n",
       "    <tr>\n",
       "      <th>0</th>\n",
       "      <td>0</td>\n",
       "      <td>0</td>\n",
       "      <td>1</td>\n",
       "      <td>0</td>\n",
       "      <td>0</td>\n",
       "      <td>12.00</td>\n",
       "      <td>1</td>\n",
       "      <td>1</td>\n",
       "      <td>0</td>\n",
       "      <td>0</td>\n",
       "      <td>0</td>\n",
       "      <td>0</td>\n",
       "      <td>0</td>\n",
       "      <td>15.00</td>\n",
       "    </tr>\n",
       "    <tr>\n",
       "      <th>1</th>\n",
       "      <td>0</td>\n",
       "      <td>0</td>\n",
       "      <td>1</td>\n",
       "      <td>0</td>\n",
       "      <td>0</td>\n",
       "      <td>6.50</td>\n",
       "      <td>1</td>\n",
       "      <td>1</td>\n",
       "      <td>0</td>\n",
       "      <td>0</td>\n",
       "      <td>0</td>\n",
       "      <td>0</td>\n",
       "      <td>0</td>\n",
       "      <td>15.00</td>\n",
       "    </tr>\n",
       "    <tr>\n",
       "      <th>2</th>\n",
       "      <td>0</td>\n",
       "      <td>0</td>\n",
       "      <td>1</td>\n",
       "      <td>0</td>\n",
       "      <td>0</td>\n",
       "      <td>-1.00</td>\n",
       "      <td>1</td>\n",
       "      <td>0</td>\n",
       "      <td>0</td>\n",
       "      <td>1</td>\n",
       "      <td>0</td>\n",
       "      <td>0</td>\n",
       "      <td>0</td>\n",
       "      <td>24.00</td>\n",
       "    </tr>\n",
       "    <tr>\n",
       "      <th>3</th>\n",
       "      <td>1</td>\n",
       "      <td>0</td>\n",
       "      <td>0</td>\n",
       "      <td>0</td>\n",
       "      <td>0</td>\n",
       "      <td>2.25</td>\n",
       "      <td>1</td>\n",
       "      <td>0</td>\n",
       "      <td>0</td>\n",
       "      <td>1</td>\n",
       "      <td>0</td>\n",
       "      <td>0</td>\n",
       "      <td>0</td>\n",
       "      <td>19.25</td>\n",
       "    </tr>\n",
       "    <tr>\n",
       "      <th>4</th>\n",
       "      <td>0</td>\n",
       "      <td>0</td>\n",
       "      <td>0</td>\n",
       "      <td>0</td>\n",
       "      <td>0</td>\n",
       "      <td>13.00</td>\n",
       "      <td>1</td>\n",
       "      <td>1</td>\n",
       "      <td>0</td>\n",
       "      <td>0</td>\n",
       "      <td>0</td>\n",
       "      <td>0</td>\n",
       "      <td>0</td>\n",
       "      <td>21.50</td>\n",
       "    </tr>\n",
       "  </tbody>\n",
       "</table>\n",
       "</div>"
      ],
      "text/plain": [
       "   CO_OWNED  SOUTHJ  CENTRALJ  PA1  PA2   DEMP  nj  bk  kfc  roys  wendys  d  \\\n",
       "0         0       0         1    0    0  12.00   1   1    0     0       0  0   \n",
       "1         0       0         1    0    0   6.50   1   1    0     0       0  0   \n",
       "2         0       0         1    0    0  -1.00   1   0    0     1       0  0   \n",
       "3         1       0         0    0    0   2.25   1   0    0     1       0  0   \n",
       "4         0       0         0    0    0  13.00   1   1    0     0       0  0   \n",
       "\n",
       "   d_nj    fte  \n",
       "0     0  15.00  \n",
       "1     0  15.00  \n",
       "2     0  24.00  \n",
       "3     0  19.25  \n",
       "4     0  21.50  "
      ]
     },
     "execution_count": 3,
     "metadata": {},
     "output_type": "execute_result"
    }
   ],
   "source": [
    "data.head()"
   ]
  },
  {
   "cell_type": "markdown",
   "metadata": {},
   "source": [
    "he difference-in-differences estimator  δ̂   is defined as in Equation  7 .\n",
    "\n",
    "δ̂ =(y¯T,A−y¯C,A)−(y¯T,B−y¯C,B)(7)\n",
    "Instead of manually calculating the four means and their difference-in-differences, it is possible to estimate the difference-in-differences estimator and its statistical properties by running a regression that includes indicator variables for treatment and after and their interaction term. The advantage of a regression over simply using Equation  7  is that the regression allows taking into account other factors that might influence the treatment effect. The simplest difference-in-differences regression model is presented in Equation  8 , where  yit  is the response for unit  i  in period  t . In the typical difference-in-differences model there are only two periods, before and after.\n",
    "\n",
    "yit=β1+β2T+β3A+δT×A+eit(8)\n",
    "With a litle algebra it can be seen that the coefficinet  δ  on the interaction term in Equation  8  is exactly the difference-in-differences estimator defined in Equation  7 . The following example calculates this estimator for the dataset  njmin3 , where the response is  fte , the full-time equivalent employment,  d  is the after dummy, with  d=1  for the after period and  d=0  for the before period, and  nj  is the dummy that marks the treatment group ( nji=1  if unit  i  is in New Jersey where the minimum wage law has been changed, and  nji=0  if unit  i  in Pennsylvania, where the minimum wage law has not changed). In other words, units (fast-food restaurants) located in New Jersey form the treatment group, and units located in Pennsylvania form the control group."
   ]
  },
  {
   "cell_type": "code",
   "execution_count": 4,
   "metadata": {
    "collapsed": false
   },
   "outputs": [],
   "source": [
    "data = data.dropna(subset=['fte'])\n",
    "y = data['fte']\n",
    "X = data.drop(['fte', 'DEMP'], axis=1)"
   ]
  },
  {
   "cell_type": "code",
   "execution_count": 7,
   "metadata": {
    "collapsed": false
   },
   "outputs": [
    {
     "data": {
      "text/html": [
       "<table class=\"simpletable\">\n",
       "<caption>OLS Regression Results</caption>\n",
       "<tr>\n",
       "  <th>Dep. Variable:</th>           <td>fte</td>       <th>  R-squared:         </th> <td>   0.220</td>\n",
       "</tr>\n",
       "<tr>\n",
       "  <th>Model:</th>                   <td>OLS</td>       <th>  Adj. R-squared:    </th> <td>   0.210</td>\n",
       "</tr>\n",
       "<tr>\n",
       "  <th>Method:</th>             <td>Least Squares</td>  <th>  F-statistic:       </th> <td>   22.03</td>\n",
       "</tr>\n",
       "<tr>\n",
       "  <th>Date:</th>             <td>Mon, 30 Nov 2020</td> <th>  Prob (F-statistic):</th> <td>1.72e-36</td>\n",
       "</tr>\n",
       "<tr>\n",
       "  <th>Time:</th>                 <td>07:20:30</td>     <th>  Log-Likelihood:    </th> <td> -2808.8</td>\n",
       "</tr>\n",
       "<tr>\n",
       "  <th>No. Observations:</th>      <td>   794</td>      <th>  AIC:               </th> <td>   5640.</td>\n",
       "</tr>\n",
       "<tr>\n",
       "  <th>Df Residuals:</th>          <td>   783</td>      <th>  BIC:               </th> <td>   5691.</td>\n",
       "</tr>\n",
       "<tr>\n",
       "  <th>Df Model:</th>              <td>    10</td>      <th>                     </th>     <td> </td>   \n",
       "</tr>\n",
       "<tr>\n",
       "  <th>Covariance Type:</th>      <td>nonrobust</td>    <th>                     </th>     <td> </td>   \n",
       "</tr>\n",
       "</table>\n",
       "<table class=\"simpletable\">\n",
       "<tr>\n",
       "      <td></td>         <th>coef</th>     <th>std err</th>      <th>t</th>      <th>P>|t|</th>  <th>[0.025</th>    <th>0.975]</th>  \n",
       "</tr>\n",
       "<tr>\n",
       "  <th>Intercept</th> <td>-1.101e+14</td> <td> 8.73e+13</td> <td>   -1.261</td> <td> 0.208</td> <td>-2.81e+14</td> <td> 6.12e+13</td>\n",
       "</tr>\n",
       "<tr>\n",
       "  <th>nj</th>        <td> 1.058e+14</td> <td> 8.39e+13</td> <td>    1.261</td> <td> 0.208</td> <td>-5.88e+13</td> <td>  2.7e+14</td>\n",
       "</tr>\n",
       "<tr>\n",
       "  <th>d</th>         <td>   -2.2059</td> <td>    1.350</td> <td>   -1.633</td> <td> 0.103</td> <td>   -4.857</td> <td>    0.445</td>\n",
       "</tr>\n",
       "<tr>\n",
       "  <th>nj:d</th>      <td>    2.7258</td> <td>    1.506</td> <td>    1.810</td> <td> 0.071</td> <td>   -0.230</td> <td>    5.682</td>\n",
       "</tr>\n",
       "<tr>\n",
       "  <th>bk</th>        <td> 4.307e+12</td> <td> 3.41e+12</td> <td>    1.261</td> <td> 0.208</td> <td> -2.4e+12</td> <td>  1.1e+13</td>\n",
       "</tr>\n",
       "<tr>\n",
       "  <th>kfc</th>       <td> 4.307e+12</td> <td> 3.41e+12</td> <td>    1.261</td> <td> 0.208</td> <td> -2.4e+12</td> <td>  1.1e+13</td>\n",
       "</tr>\n",
       "<tr>\n",
       "  <th>roys</th>      <td> 4.307e+12</td> <td> 3.41e+12</td> <td>    1.261</td> <td> 0.208</td> <td> -2.4e+12</td> <td>  1.1e+13</td>\n",
       "</tr>\n",
       "<tr>\n",
       "  <th>wendys</th>    <td> 4.307e+12</td> <td> 3.41e+12</td> <td>    1.261</td> <td> 0.208</td> <td> -2.4e+12</td> <td>  1.1e+13</td>\n",
       "</tr>\n",
       "<tr>\n",
       "  <th>CO_OWNED</th>  <td>   -0.6866</td> <td>    0.720</td> <td>   -0.953</td> <td> 0.341</td> <td>   -2.100</td> <td>    0.727</td>\n",
       "</tr>\n",
       "<tr>\n",
       "  <th>SOUTHJ</th>    <td>   -3.6869</td> <td>    0.781</td> <td>   -4.721</td> <td> 0.000</td> <td>   -5.220</td> <td>   -2.154</td>\n",
       "</tr>\n",
       "<tr>\n",
       "  <th>CENTRALJ</th>  <td>    0.0940</td> <td>    0.901</td> <td>    0.104</td> <td> 0.917</td> <td>   -1.675</td> <td>    1.863</td>\n",
       "</tr>\n",
       "<tr>\n",
       "  <th>PA1</th>       <td> 1.058e+14</td> <td> 8.39e+13</td> <td>    1.261</td> <td> 0.208</td> <td>-5.88e+13</td> <td>  2.7e+14</td>\n",
       "</tr>\n",
       "<tr>\n",
       "  <th>PA2</th>       <td> 1.058e+14</td> <td> 8.39e+13</td> <td>    1.261</td> <td> 0.208</td> <td>-5.88e+13</td> <td>  2.7e+14</td>\n",
       "</tr>\n",
       "</table>\n",
       "<table class=\"simpletable\">\n",
       "<tr>\n",
       "  <th>Omnibus:</th>       <td>291.202</td> <th>  Durbin-Watson:     </th> <td>   2.043</td>\n",
       "</tr>\n",
       "<tr>\n",
       "  <th>Prob(Omnibus):</th> <td> 0.000</td>  <th>  Jarque-Bera (JB):  </th> <td>1783.184</td>\n",
       "</tr>\n",
       "<tr>\n",
       "  <th>Skew:</th>          <td> 1.529</td>  <th>  Prob(JB):          </th> <td>    0.00</td>\n",
       "</tr>\n",
       "<tr>\n",
       "  <th>Kurtosis:</th>      <td> 9.675</td>  <th>  Cond. No.          </th> <td>3.46e+15</td>\n",
       "</tr>\n",
       "</table><br/><br/>Warnings:<br/>[1] Standard Errors assume that the covariance matrix of the errors is correctly specified.<br/>[2] The smallest eigenvalue is 1.81e-28. This might indicate that there are<br/>strong multicollinearity problems or that the design matrix is singular."
      ],
      "text/plain": [
       "<class 'statsmodels.iolib.summary.Summary'>\n",
       "\"\"\"\n",
       "                            OLS Regression Results                            \n",
       "==============================================================================\n",
       "Dep. Variable:                    fte   R-squared:                       0.220\n",
       "Model:                            OLS   Adj. R-squared:                  0.210\n",
       "Method:                 Least Squares   F-statistic:                     22.03\n",
       "Date:                Mon, 30 Nov 2020   Prob (F-statistic):           1.72e-36\n",
       "Time:                        07:20:30   Log-Likelihood:                -2808.8\n",
       "No. Observations:                 794   AIC:                             5640.\n",
       "Df Residuals:                     783   BIC:                             5691.\n",
       "Df Model:                          10                                         \n",
       "Covariance Type:            nonrobust                                         \n",
       "==============================================================================\n",
       "                 coef    std err          t      P>|t|      [0.025      0.975]\n",
       "------------------------------------------------------------------------------\n",
       "Intercept  -1.101e+14   8.73e+13     -1.261      0.208   -2.81e+14    6.12e+13\n",
       "nj          1.058e+14   8.39e+13      1.261      0.208   -5.88e+13     2.7e+14\n",
       "d             -2.2059      1.350     -1.633      0.103      -4.857       0.445\n",
       "nj:d           2.7258      1.506      1.810      0.071      -0.230       5.682\n",
       "bk          4.307e+12   3.41e+12      1.261      0.208    -2.4e+12     1.1e+13\n",
       "kfc         4.307e+12   3.41e+12      1.261      0.208    -2.4e+12     1.1e+13\n",
       "roys        4.307e+12   3.41e+12      1.261      0.208    -2.4e+12     1.1e+13\n",
       "wendys      4.307e+12   3.41e+12      1.261      0.208    -2.4e+12     1.1e+13\n",
       "CO_OWNED      -0.6866      0.720     -0.953      0.341      -2.100       0.727\n",
       "SOUTHJ        -3.6869      0.781     -4.721      0.000      -5.220      -2.154\n",
       "CENTRALJ       0.0940      0.901      0.104      0.917      -1.675       1.863\n",
       "PA1         1.058e+14   8.39e+13      1.261      0.208   -5.88e+13     2.7e+14\n",
       "PA2         1.058e+14   8.39e+13      1.261      0.208   -5.88e+13     2.7e+14\n",
       "==============================================================================\n",
       "Omnibus:                      291.202   Durbin-Watson:                   2.043\n",
       "Prob(Omnibus):                  0.000   Jarque-Bera (JB):             1783.184\n",
       "Skew:                           1.529   Prob(JB):                         0.00\n",
       "Kurtosis:                       9.675   Cond. No.                     3.46e+15\n",
       "==============================================================================\n",
       "\n",
       "Warnings:\n",
       "[1] Standard Errors assume that the covariance matrix of the errors is correctly specified.\n",
       "[2] The smallest eigenvalue is 1.81e-28. This might indicate that there are\n",
       "strong multicollinearity problems or that the design matrix is singular.\n",
       "\"\"\""
      ]
     },
     "execution_count": 7,
     "metadata": {},
     "output_type": "execute_result"
    }
   ],
   "source": [
    "model = smf.OLS.from_formula(\"fte ~ nj + d + nj*d + bk + kfc + roys + wendys + CO_OWNED + SOUTHJ + CENTRALJ + PA1 + PA2\", data=data)\n",
    "res = model.fit()\n",
    "res.summary()"
   ]
  },
  {
   "cell_type": "code",
   "execution_count": 24,
   "metadata": {
    "collapsed": false
   },
   "outputs": [
    {
     "data": {
      "text/plain": [
       "Index(['CO_OWNED', 'SOUTHJ', 'CENTRALJ', 'PA1', 'PA2', 'DEMP', 'nj', 'bk',\n",
       "       'kfc', 'roys', 'wendys', 'd', 'd_nj', 'fte'],\n",
       "      dtype='object')"
      ]
     },
     "execution_count": 24,
     "metadata": {},
     "output_type": "execute_result"
    }
   ],
   "source": [
    "data.columns"
   ]
  },
  {
   "cell_type": "markdown",
   "metadata": {
    "collapsed": true
   },
   "source": [
    "Further Reading:\n",
    "\n",
    "https://medium.com/analytics-vidhya/identify-causality-by-difference-in-differences-78ad8335fb7c"
   ]
  }
 ],
 "metadata": {
  "kernelspec": {
   "display_name": "Python 3",
   "language": "python",
   "name": "python3"
  },
  "language_info": {
   "codemirror_mode": {
    "name": "ipython",
    "version": 3
   },
   "file_extension": ".py",
   "mimetype": "text/x-python",
   "name": "python",
   "nbconvert_exporter": "python",
   "pygments_lexer": "ipython3",
   "version": "3.5.4"
  },
  "toc": {
   "base_numbering": 1,
   "nav_menu": {},
   "number_sections": true,
   "sideBar": true,
   "skip_h1_title": false,
   "title_cell": "Table of Contents",
   "title_sidebar": "Contents",
   "toc_cell": false,
   "toc_position": {},
   "toc_section_display": true,
   "toc_window_display": false
  }
 },
 "nbformat": 4,
 "nbformat_minor": 0
}
